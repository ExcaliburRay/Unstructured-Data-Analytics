{
 "cells": [
  {
   "cell_type": "markdown",
   "metadata": {},
   "source": [
    "# 95-865 Homework 3"
   ]
  },
  {
   "cell_type": "markdown",
   "metadata": {},
   "source": [
    "Your name: Ruixin Huang\n",
    "\n",
    "Your Andrew ID: ruixinh\n",
    "\n",
    "Collaborators (if none, say \\\"none\\\"; do *not* leave this blank): none"
   ]
  },
  {
   "cell_type": "markdown",
   "metadata": {},
   "source": [
    "# Part 1: Email spam classification [45 points]"
   ]
  },
  {
   "cell_type": "markdown",
   "metadata": {},
   "source": [
    "   - Get the data from: http://www.andrew.cmu.edu/user/georgech/preprocessed-enron-email-dataset.zip\n",
    "   - Unzip this into the same folder as this notebook, rename it to `email-data`\n",
    "   - The folder contains 3 subfolders:\n",
    "      - `ham` contains ham emails.\n",
    "      - `spam` contains spam emails.\n",
    "      - `testing` is a folder containing test emails for your classifier. The ham/spam label is in the filename.\n",
    "      \n",
    "**Important**: For this problem, do *not* use neural nets/deep nets."
   ]
  },
  {
   "cell_type": "markdown",
   "metadata": {},
   "source": [
    "### Print the number of ham and spam emails [1 point]\n",
    " \n",
    "In addition to providing the code, respond to the following questions:\n",
    "\n",
    "   - Is this dataset imbalanced? Will this be problematic in training the model?\n",
    "   - If so, how would you address it?"
   ]
  },
  {
   "cell_type": "code",
   "execution_count": 1,
   "metadata": {},
   "outputs": [
    {
     "name": "stdout",
     "output_type": "stream",
     "text": [
      "the number of emails in ham:  1500\n",
      "the number of emails in spam:  3671\n"
     ]
    }
   ],
   "source": [
    "#your code here\n",
    "import glob\n",
    "sumHamDocs = 0\n",
    "sumSpamDocs = 0\n",
    "for i in glob.glob('./email-data/ham/*.txt'):\n",
    "    sumHamDocs += 1\n",
    "for i in glob.glob('./email-data/spam/*.txt'):\n",
    "    sumSpamDocs += 1\n",
    "print(\"the number of emails in ham: \",sumHamDocs)\n",
    "print(\"the number of emails in spam: \",sumSpamDocs)"
   ]
  },
  {
   "cell_type": "markdown",
   "metadata": {},
   "source": [
    "### Construct the documents [4 points]\n",
    " \n",
    "   - Provided below is a function that returns a document present in a file given a fileName.\n",
    "   - The function performs some preprocessing to (1) remove punctuation, (2),(3) remove whitespace and (4) lowercase all words.\n",
    "   - Use this function to construct a list of documents.\n",
    "   - Also construct a list of document labels containing `1` for spam and `0` for ham."
   ]
  },
  {
   "cell_type": "code",
   "execution_count": 2,
   "metadata": {},
   "outputs": [],
   "source": [
    "import re\n",
    "import string\n",
    "import codecs\n",
    "\n",
    "def makeWordList(path):\n",
    "    \n",
    "    with codecs.open(path, \"r\", encoding='utf-8', errors='ignore') as f:\n",
    "        corpus_text = f.read()\n",
    "\n",
    "    for c in string.punctuation:\n",
    "        corpus_text = corpus_text.replace(c, \"\")  # -- (1)\n",
    "    \n",
    "    text = re.sub(r'\\S*\\d\\S*','',corpus_text) # -- (2)\n",
    "    text = re.sub(r'[^\\w\\s]','',text)         # -- (3)\n",
    "    \n",
    "    text = text.lower().split()           # -- (4)         \n",
    "    \n",
    "    li = []\n",
    "    for token in text:\n",
    "        li.append(token)\n",
    "\n",
    "    return \" \".join(li)"
   ]
  },
  {
   "cell_type": "code",
   "execution_count": 6,
   "metadata": {},
   "outputs": [],
   "source": [
    "#your code here\n",
    "import numpy as np\n",
    "import glob\n",
    "doc = []\n",
    "index = []\n",
    "for f in glob.glob('./email-data/ham/*.txt'):\n",
    "    doc.append(makeWordList(f))\n",
    "    index.append(0)\n",
    "for f in glob.glob('./email-data/spam/*.txt'):\n",
    "    doc.append(makeWordList(f))\n",
    "    index.append(1)\n",
    "index=np.array(index)"
   ]
  },
  {
   "cell_type": "markdown",
   "metadata": {},
   "source": [
    "### Construct the document matrix `X` as a matrix of word frequencies [5 points]\n",
    "\n",
    "   - Use the `CountVectorizer` from scikit-learn.\n",
    "   - Set `min_df=50`; this drops words that don't occur in at least 50 documents.\n",
    "   - Set `stop_words=\"english\"` and `max_df=0.8` to filter out stop-words.\n",
    "   - Print the size of the vocabulary (number of unique words)"
   ]
  },
  {
   "cell_type": "code",
   "execution_count": 4,
   "metadata": {},
   "outputs": [
    {
     "name": "stdout",
     "output_type": "stream",
     "text": [
      "1680\n"
     ]
    }
   ],
   "source": [
    "#your code here\n",
    "from sklearn.feature_extraction.text import CountVectorizer\n",
    "vectorizer = CountVectorizer(stop_words='english', min_df=50, max_df=0.8)\n",
    "X = vectorizer.fit_transform(doc).toarray()\n",
    "list = vectorizer.get_feature_names()\n",
    "print(len(list))"
   ]
  },
  {
   "cell_type": "markdown",
   "metadata": {},
   "source": [
    "### k-NN, SVM, random forest: Hyperparameter selection [15 points]\n",
    "\n",
    "Now that you have your documents and labels as training data, you can perform 5-fold cross-validation to select the hyperparameters for different learning algorithms.\n",
    "\n",
    "The hyperparameter with the best performance averaged across 5 folds is chosen. Use the **weighted F1-score** as the evaluation metric.\n",
    "\n",
    "   - k-NN: Select `k` from a range of values of your choice.\n",
    "   - SVM: (SVC) Select `C` from a range of your choice, use any kernel that performs well.\n",
    "   - Random forest: Select `n_estimators` **and** `max_depth` from a grid of your choice.\n",
    "\n",
    "Store each chosen hyperparameter as `best_k`, `best_alpha` and `best_C` respectively.\n",
    "\n",
    "Provided is some seed code for cross-validation that you may modify and reuse. Do not use the cross-validations score or grid-search functions from scikit-learn (you may use `KFold`)."
   ]
  },
  {
   "cell_type": "code",
   "execution_count": 7,
   "metadata": {},
   "outputs": [
    {
     "name": "stderr",
     "output_type": "stream",
     "text": [
      "C:\\Users\\Ray\\Anaconda3\\lib\\site-packages\\sklearn\\metrics\\classification.py:1135: UndefinedMetricWarning: F-score is ill-defined and being set to 0.0 in labels with no predicted samples.\n",
      "  'precision', 'predicted', average, warn_for)\n",
      "C:\\Users\\Ray\\Anaconda3\\lib\\site-packages\\sklearn\\metrics\\classification.py:1137: UndefinedMetricWarning: F-score is ill-defined and being set to 0.0 in labels with no true samples.\n",
      "  'recall', 'true', average, warn_for)\n"
     ]
    },
    {
     "name": "stdout",
     "output_type": "stream",
     "text": [
      "100.0\n"
     ]
    }
   ],
   "source": [
    "from sklearn import svm\n",
    "from sklearn.model_selection import KFold\n",
    "from sklearn.metrics import f1_score\n",
    "\n",
    "num_folds = 5\n",
    "k_fold = KFold(num_folds)\n",
    "param_values = np.logspace(-4, 2, 3)\n",
    "\n",
    "arg_max = None\n",
    "fold_scores = []\n",
    "max_cross_val_score = -np.inf\n",
    "for C in param_values:\n",
    "    # your code to train and score the training data here\n",
    "    for train, val in k_fold.split(X,index):\n",
    "        clf = svm.SVC(kernel='rbf', C=C)\n",
    "        clf.fit(X[train],index[train])\n",
    "        ypred = clf.predict(X[val])\n",
    "        yval = index[val]\n",
    "        accuracy = f1_score(yval, ypred, average='weighted') \n",
    "        fold_scores.append(accuracy)        \n",
    "    cross_val_score = np.mean(fold_scores)\n",
    "    if cross_val_score > max_cross_val_score:\n",
    "        max_cross_val_score = cross_val_score\n",
    "        arg_max = C\n",
    "            \n",
    "best_C = arg_max\n",
    "print(best_C)"
   ]
  },
  {
   "cell_type": "code",
   "execution_count": 11,
   "metadata": {},
   "outputs": [],
   "source": [
    "from sklearn.neighbors import KNeighborsClassifier  \n",
    "classifier = KNeighborsClassifier(n_neighbors=5)  \n",
    "classifier.fit(X,index)\n",
    "predicted_train_labels = classifier.predict(X)\n",
    "error_rate = np.mean(predicted_train_labels != index)"
   ]
  },
  {
   "cell_type": "code",
   "execution_count": 12,
   "metadata": {},
   "outputs": [],
   "source": [
    "np.random.seed(0)\n",
    "num_train_images = len(X)\n",
    "shuffled_indices = np.random.permutation(num_train_images)\n",
    "\n",
    "train_frac = 0.7\n",
    "smaller_train_indices = shuffled_indices[:int(train_frac*num_train_images)]\n",
    "validation_indices = shuffled_indices[int(train_frac*num_train_images):]"
   ]
  },
  {
   "cell_type": "code",
   "execution_count": 13,
   "metadata": {},
   "outputs": [
    {
     "name": "stdout",
     "output_type": "stream",
     "text": [
      "Best k: 1\n"
     ]
    }
   ],
   "source": [
    "lowest_error = np.inf\n",
    "best_k = None\n",
    "for k in range(1, 50):\n",
    "    classifier = KNeighborsClassifier(n_neighbors=k)\n",
    "    classifier.fit(X[smaller_train_indices],\n",
    "                   index[smaller_train_indices])\n",
    "    predicted_val_labels = classifier.predict(X[validation_indices])\n",
    "    error = np.mean(predicted_val_labels != index[validation_indices])\n",
    "    if error < lowest_error:\n",
    "        lowest_error = error\n",
    "        best_k = k\n",
    "\n",
    "print('Best k:', best_k)"
   ]
  },
  {
   "cell_type": "code",
   "execution_count": null,
   "metadata": {},
   "outputs": [],
   "source": [
    "from sklearn.neighbors import KNeighborsClassifier \n",
    "from sklearn.model_selection import KFold\n",
    "from sklearn.metrics import f1_score\n",
    "\n",
    "num_folds = 5\n",
    "k_fold = KFold(num_folds)\n",
    "arg_max = 0\n",
    "fold_scores = []\n",
    "max_cross_val_score = 0\n",
    "for C in range(1,50):\n",
    "    # your code to train and score the training data here\n",
    "    for train, val in k_fold.split(X,index):\n",
    "        classifier = KNeighborsClassifier(n_neighbors=k)\n",
    "        classifier.fit(X[smaller_train_indices],\n",
    "                   index[smaller_train_indices])\n",
    "        predicted_val_labels = classifier.predict(X[validation_indices])\n",
    "        yval = index[val]\n",
    "        accuracy = f1_score(yval, predicted_val_labels, average='weighted') \n",
    "        fold_scores.append(accuracy)        \n",
    "    cross_val_score = np.mean(fold_scores)\n",
    "    if cross_val_score > max_cross_val_score:\n",
    "        max_cross_val_score = cross_val_score\n",
    "        arg_max = C\n",
    "            \n",
    "best_K = arg_max\n",
    "print(best_K)"
   ]
  },
  {
   "cell_type": "code",
   "execution_count": 17,
   "metadata": {},
   "outputs": [
    {
     "name": "stdout",
     "output_type": "stream",
     "text": [
      "0.00019338619222587506\n"
     ]
    }
   ],
   "source": [
    "from sklearn.ensemble import RandomForestClassifier\n",
    "from sklearn.grid_search import GridSearchCV\n",
    "from sklearn import cross_validation, metrics\n",
    "rf_classifier = RandomForestClassifier(n_estimators=50, random_state=0)  # n_estimators is the number of trees\n",
    "rf_classifier.fit(X,index)\n",
    "rf_predicted_train_labels = rf_classifier.predict(X)\n",
    "rf_error = np.mean(rf_predicted_train_labels != index)\n",
    "print(rf_error)"
   ]
  },
  {
   "cell_type": "markdown",
   "metadata": {},
   "source": [
    "### Classifier testing: Precision-Recall and ROC curves [20 points]\n",
    "\n",
    "   - Use the best hyperparameters for each classifier from the previous question to **train** your classifiers on the training data.\n",
    "   - Use test emails to in the `testing` folder to **test** your classifiers and construct the plots below.\n",
    "\n",
    "Things to plot:\n",
    "\n",
    "   - Construct one plot containing 3 ROC curves, one for each classifier.\n",
    "   - In the legend of this plot, display the AUC for each classifier.\n",
    "   - Construct one plot containing 3 precision-recall curves, one for each classifier.\n",
    "   - In the legend of each plot, display the average precision for each classifier.\n",
    "\n",
    "Note that these plots are on the test data: you will have to read in this data, construct a document matrix and labels. Some words in the test data may not have been present in the training data: there are multiple ways to address this, briefly describe your approach.\n",
    "\n",
    "Things to answer:\n",
    "\n",
    "   - Of the ROC and Precision-Recall curves, which one would you use for this task and why?\n",
    "   - Which classifier is the best, according to your chosen curves?"
   ]
  },
  {
   "cell_type": "code",
   "execution_count": null,
   "metadata": {},
   "outputs": [],
   "source": [
    "#your code here"
   ]
  },
  {
   "cell_type": "markdown",
   "metadata": {},
   "source": [
    "# Part 2: Image Segmentation [50 points]"
   ]
  },
  {
   "cell_type": "markdown",
   "metadata": {},
   "source": [
    "### What is segmentation?\n",
    "\n",
    "Segmentation is the task of \"labeling\" groups of pixels in an image to identify certain objects.\n",
    "\n",
    "In the early years, research on segmentation was focused on \"foreground-background\" segmentation; marking only those pixels that comprise the \"background\" of an image (in the image below, the background is marked in blue).\n",
    "\n",
    "<div>\n",
    "<img src=\"http://www.eyeshalfclosed.com/images/cat.jpg\" width=500/>\n",
    "</div>\n",
    "\n",
    "In recent years, sophisticated deep-learning models have enabled complex multi-label segmentation, such as in the images below.\n",
    "\n",
    "<tr>\n",
    "<td>\n",
    "<img src=\"http://www.eyeshalfclosed.com/images/sheep.png\" width=500/>\n",
    "</td>\n",
    "<td>\n",
    "<img src=\"http://www.eyeshalfclosed.com/images/street.png\" width=500/>\n",
    "</td>\n",
    "</tr>\n",
    "   "
   ]
  },
  {
   "cell_type": "markdown",
   "metadata": {},
   "source": [
    "### Prerequisites [20 points]\n",
    "\n",
    "You get 20 points for setting up AWS and successfully running the code given in the following sections.\n",
    "\n",
    "This homework needs to be run on an AWS GPU instance; it will not complete in time without a GPU. Look up the relevant documentation to set up an AWS machine as configured below.\n",
    "\n",
    "**Machine.**\n",
    "\n",
    "   - Use the [Ubuntu Deep Learning AMI](https://aws.amazon.com/marketplace/pp/B077GCH38C).\n",
    "   - Use a p2.xlarge instance.\n",
    "   - Allocate at least 80GB of disk space.\n",
    "   - Use the `conda_tensorflow_p36` Conda environment: `source activate tensorflow_p36`\n",
    "   - Create a security group and open all inbound/outbound ports to 0.0.0.0/0.\n",
    "\n",
    "All commands below assume the aforementioned Conda environment is active.\n",
    "\n",
    "**Run Jupyter.** `jupyter notebook --ip=* --no-browser`\n",
    "\n",
    "You may move Jupyter to the background by: CTRL-Z, then `bg`, then `disown`. You can access Jupyter using your public DNS; it will look something like `ec2-54-84-36-171.compute-1.amazonaws.com:8888`. Figure out how you can find this out.\n",
    "\n",
    "**Data downloads.** All downloads must go into the same directory as this notebook. Unzip files after download. *This will take time.*\n",
    "\n",
    "   * Download the [trained model weights](https://github.com/matterport/Mask_RCNN/releases/download/v1.0/mask_rcnn_coco.h5) (~250MB).\n",
    "\n",
    "   * Download the [training images](http://images.cocodataset.org/zips/train2014.zip) (13GB).\n",
    "   \n",
    "   * Download the [validation images](http://images.cocodataset.org/zips/val2014.zip) (6GB).\n",
    "   * Download the [training image annotations](https://dl.dropboxusercontent.com/s/o43o90bna78omob/instances_minival2014.json.zip?dl=0).\n",
    "   * Download the [test image annotations](https://dl.dropboxusercontent.com/s/s3tw5zcg7395368/instances_valminusminival2014.json.zip?dl=0).\n",
    "\n",
    "Now create a new folder named `2014`, then move the `train2014`, `val2014` folders into `2014/`.\n",
    "\n",
    "Create a new `2014/annotations/` folder and move the train and test annotation JSON files into it\n",
    "\n",
    "Your directory structure should look like:\n",
    "```\n",
    "2014/\n",
    "   /annotations/\n",
    "       /annotations/instances_minival2014.json\n",
    "       /annotations/instances_valminusminival2014.json\n",
    "   /train2014/\n",
    "       /train2014/*.jpg\n",
    "   /val2014/\n",
    "       /val2014/*.jpg\n",
    "```\n",
    "\n",
    "**Package installation.**\n",
    "\n",
    "   * Install Cython: `pip install cython`\n",
    "   * Install Tensorflow: `pip install tensorflow==1.3.0 tensorflow-gpu==1.3.0`\n",
    "   * Install Keras and image tools: `pip install keras scikit-image pillow h5py`\n",
    "   * Install OpenCV: `pip install opencv-python`\n",
    "   * Install pycoco:\n",
    "   \n",
    "`pip install \"git+https://github.com/philferriere/cocoapi.git#egg=pycocotools&subdirectory=PythonAPI\"`\n",
    "   \n",
    "**GPU.** Ensure Keras/TensorFlow can see your GPU with the following Python code (run in the `conda_tensorflow_p36 environment` after installing all the required packages). You should see a GPU in one of the devices listed."
   ]
  },
  {
   "cell_type": "code",
   "execution_count": null,
   "metadata": {
    "collapsed": true
   },
   "outputs": [],
   "source": [
    "from tensorflow.python.client import device_lib\n",
    "print(device_lib.list_local_devices())"
   ]
  },
  {
   "cell_type": "markdown",
   "metadata": {},
   "source": [
    "### Testing a pre-trained model on small data\n",
    "\n",
    "We will first load a pre-trained convolutional neural network model and test it on a small dataset of images. These images are stored in the `/images/` folder.\n",
    "\n",
    "The model was trained by annotating each image with the objects it contains. Annotations are in the following format:\n",
    "\n",
    "```\n",
    "annotation{\n",
    "    \"id\" : int,\n",
    "    \"image_id\" : int,\n",
    "    \"category_id\" : int,\n",
    "    \"segmentation\" : RLE or [polygon],\n",
    "    \"area\" : float,\n",
    "    \"bbox\" : [x,y,width,height],\n",
    "    \"iscrowd\" : 0 or 1,\n",
    "}\n",
    "\n",
    "categories[{\n",
    "    \"id\" : int,\n",
    "    \"name\" : str,\n",
    "    \"supercategory\" : str,\n",
    "}]\n",
    "```\n",
    "\n",
    "Make sure you understand the annotations and how they are connect to images by looking at [section 4 on this page](http://cocodataset.org/#download). You may ignore the `iscrowd` variable."
   ]
  },
  {
   "cell_type": "markdown",
   "metadata": {},
   "source": [
    "### Set up the environment"
   ]
  },
  {
   "cell_type": "code",
   "execution_count": null,
   "metadata": {
    "collapsed": true
   },
   "outputs": [],
   "source": [
    "import os\n",
    "import sys\n",
    "import random\n",
    "import math\n",
    "import numpy as np\n",
    "import skimage.io\n",
    "import matplotlib\n",
    "import matplotlib.pyplot as plt\n",
    "\n",
    "import coco\n",
    "import utils\n",
    "import model as modellib\n",
    "from model import log\n",
    "import visualize\n",
    "from config import Config\n",
    "from shapes import ShapesDataset\n",
    "\n",
    "from pycocotools.coco import COCO\n",
    "\n",
    "%matplotlib inline \n",
    "\n",
    "ROOT_DIR = os.getcwd()\n",
    "MODEL_DIR = os.path.join(ROOT_DIR, \"logs\")\n",
    "COCO_MODEL_PATH = os.path.join(ROOT_DIR, \"mask_rcnn_coco.h5\")\n",
    "IMAGE_DIR = os.path.join(ROOT_DIR, \"images\")"
   ]
  },
  {
   "cell_type": "markdown",
   "metadata": {},
   "source": [
    "### Model configuration\n",
    "\n",
    "These lines specify how many GPUs to use, and how many images to process in parallel on each GPU."
   ]
  },
  {
   "cell_type": "code",
   "execution_count": null,
   "metadata": {
    "collapsed": true
   },
   "outputs": [],
   "source": [
    "class InferenceConfig(coco.CocoConfig):\n",
    "    # Set batch size to 1 since we'll be running inference on\n",
    "    # one image at a time. Batch size = GPU_COUNT * IMAGES_PER_GPU\n",
    "    GPU_COUNT = 1\n",
    "    IMAGES_PER_GPU = 1\n",
    "\n",
    "config = InferenceConfig()\n",
    "#config.display()"
   ]
  },
  {
   "cell_type": "markdown",
   "metadata": {},
   "source": [
    "### Load the pre-trained model\n",
    "\n",
    "This is actually a Keras model wrapped along with some helpful functions. The model may be loaded in two modes: `training` and `inference` (testing) mode. `model_dir` points towards a directory to save logs and trained weights, which we have set above as the `/logs` directory."
   ]
  },
  {
   "cell_type": "code",
   "execution_count": null,
   "metadata": {
    "collapsed": true
   },
   "outputs": [],
   "source": [
    "%%time\n",
    "model = modellib.MaskRCNN(mode=\"inference\", model_dir=MODEL_DIR, config=config)\n",
    "model.load_weights(COCO_MODEL_PATH, by_name=True)"
   ]
  },
  {
   "cell_type": "markdown",
   "metadata": {},
   "source": [
    "### Hard-code object classes\n",
    "\n",
    "For the small dataset of images we are using, we define our own list of class names and class indices for each object. These are of various types: for example, \"car\", \"bicycle\", etc.."
   ]
  },
  {
   "cell_type": "code",
   "execution_count": null,
   "metadata": {
    "collapsed": true
   },
   "outputs": [],
   "source": [
    "# COCO Class names\n",
    "# Index of the class in the list is its ID. For example, to get ID of\n",
    "# the teddy bear class, use: class_names.index('teddy bear')\n",
    "class_names = ['BG', 'person', 'bicycle', 'car', 'motorcycle', 'airplane',\n",
    "               'bus', 'train', 'truck', 'boat', 'traffic light',\n",
    "               'fire hydrant', 'stop sign', 'parking meter', 'bench', 'bird',\n",
    "               'cat', 'dog', 'horse', 'sheep', 'cow', 'elephant', 'bear',\n",
    "               'zebra', 'giraffe', 'backpack', 'umbrella', 'handbag', 'tie',\n",
    "               'suitcase', 'frisbee', 'skis', 'snowboard', 'sports ball',\n",
    "               'kite', 'baseball bat', 'baseball glove', 'skateboard',\n",
    "               'surfboard', 'tennis racket', 'bottle', 'wine glass', 'cup',\n",
    "               'fork', 'knife', 'spoon', 'bowl', 'banana', 'apple',\n",
    "               'sandwich', 'orange', 'broccoli', 'carrot', 'hot dog', 'pizza',\n",
    "               'donut', 'cake', 'chair', 'couch', 'potted plant', 'bed',\n",
    "               'dining table', 'toilet', 'tv', 'laptop', 'mouse', 'remote',\n",
    "               'keyboard', 'cell phone', 'microwave', 'oven', 'toaster',\n",
    "               'sink', 'refrigerator', 'book', 'clock', 'vase', 'scissors',\n",
    "               'teddy bear', 'hair drier', 'toothbrush']"
   ]
  },
  {
   "cell_type": "markdown",
   "metadata": {},
   "source": [
    "### Load and visualize a random image\n",
    "\n",
    "Make sure you understand what the code below is doing."
   ]
  },
  {
   "cell_type": "code",
   "execution_count": null,
   "metadata": {
    "collapsed": true
   },
   "outputs": [],
   "source": [
    "file_names = next(os.walk(IMAGE_DIR))[2]\n",
    "image = skimage.io.imread(os.path.join(IMAGE_DIR, random.choice(file_names)))\n",
    "plt.imshow(image)\n",
    "plt.show()"
   ]
  },
  {
   "cell_type": "markdown",
   "metadata": {},
   "source": [
    "### Test the pre-trained model\n",
    "\n",
    "We now call the `detect` function of the model on the list of images we want to be segmented. This returns a `result` object; inspect this object to see what it contains.\n",
    "\n",
    "The `visualize` helper module provides useful functions to visualize our segmentation results. Understand how this function works (SHIFT+TAB in Jupyter is useful, as well as looking at the code in `visualize.py` directly)."
   ]
  },
  {
   "cell_type": "code",
   "execution_count": null,
   "metadata": {
    "collapsed": true,
    "scrolled": false
   },
   "outputs": [],
   "source": [
    "%%time\n",
    "results = model.detect([image], verbose=1)\n",
    "r = results[0]\n",
    "visualize.display_instances(image, r['rois'], r['masks'], r['class_ids'], \n",
    "                            class_names, r['scores'])"
   ]
  },
  {
   "cell_type": "markdown",
   "metadata": {},
   "source": [
    "### Training from scratch\n",
    "\n",
    "Now that we understand what a properly trained model should do, we consider training a model from scratch."
   ]
  },
  {
   "cell_type": "markdown",
   "metadata": {},
   "source": [
    "### Load the data\n",
    "\n",
    "Load the annotations for the training images into memory."
   ]
  },
  {
   "cell_type": "code",
   "execution_count": null,
   "metadata": {
    "collapsed": true
   },
   "outputs": [],
   "source": [
    "%%time\n",
    "config = coco.CocoConfig()\n",
    "COCO_DIR = \"2014\"\n",
    "dataset = coco.CocoDataset()\n",
    "dataset.load_coco(COCO_DIR, \"minival\")\n",
    "dataset.prepare()"
   ]
  },
  {
   "cell_type": "markdown",
   "metadata": {},
   "source": [
    "Now load the same for the test images."
   ]
  },
  {
   "cell_type": "code",
   "execution_count": null,
   "metadata": {
    "collapsed": true
   },
   "outputs": [],
   "source": [
    "%%time\n",
    "dataset_val = coco.CocoDataset()\n",
    "dataset_val.load_coco(COCO_DIR, \"val35k\")\n",
    "dataset_val.prepare()"
   ]
  },
  {
   "cell_type": "markdown",
   "metadata": {},
   "source": [
    "### List a few object classes"
   ]
  },
  {
   "cell_type": "code",
   "execution_count": null,
   "metadata": {
    "collapsed": true
   },
   "outputs": [],
   "source": [
    "print(\"Image Count: {}\".format(len(dataset.image_ids)))\n",
    "print(\"Class Count: {}\".format(dataset.num_classes))\n",
    "for i, info in enumerate(dataset.class_info):\n",
    "    print(\"{:3}. {:50}\".format(i, info['name']))\n",
    "    if i > 10:\n",
    "        break"
   ]
  },
  {
   "cell_type": "markdown",
   "metadata": {},
   "source": [
    "### Visualize a random image and its annotations"
   ]
  },
  {
   "cell_type": "code",
   "execution_count": null,
   "metadata": {
    "collapsed": true
   },
   "outputs": [],
   "source": [
    "# Load random image and mask.\n",
    "image_id = random.choice(dataset.image_ids)\n",
    "image = dataset.load_image(image_id)\n",
    "mask, class_ids = dataset.load_mask(image_id)\n",
    "bbox = utils.extract_bboxes(mask)\n",
    "\n",
    "# Display image and additional stats\n",
    "print(\"image_id \", image_id, dataset.image_reference(image_id))\n",
    "log(\"image\", image)\n",
    "log(\"mask\", mask)\n",
    "log(\"class_ids\", class_ids)\n",
    "log(\"bbox\", bbox)\n",
    "\n",
    "# Display image and instances\n",
    "visualize.display_instances(image, bbox, mask, class_ids, dataset.class_names)"
   ]
  },
  {
   "cell_type": "markdown",
   "metadata": {},
   "source": [
    "### Training configuration\n",
    "\n",
    "See the default configuration values in `config.py`."
   ]
  },
  {
   "cell_type": "code",
   "execution_count": null,
   "metadata": {
    "collapsed": true
   },
   "outputs": [],
   "source": [
    "class TrainConfig(coco.CocoConfig):\n",
    "    # Set batch size to 1 since we'll be running inference on\n",
    "    # one image at a time. Batch size = GPU_COUNT * IMAGES_PER_GPU\n",
    "    GPU_COUNT = 1\n",
    "    IMAGES_PER_GPU = 1\n",
    "    STEPS_PER_EPOCH = 60\n",
    "\n",
    "config = TrainConfig()\n",
    "config.display()"
   ]
  },
  {
   "cell_type": "markdown",
   "metadata": {},
   "source": [
    "### Create a new model in training mode [5 points]"
   ]
  },
  {
   "cell_type": "code",
   "execution_count": null,
   "metadata": {
    "collapsed": true
   },
   "outputs": [],
   "source": [
    "# Create model in training mode"
   ]
  },
  {
   "cell_type": "markdown",
   "metadata": {},
   "source": [
    "### Initialize the model weights with the weights learned on COCO [5 points]\n",
    "\n",
    "Call `load_weights` as before, but add the following argument in the call to the function:\n",
    "\n",
    "```\n",
    "exclude=[\"mrcnn_class_logits\", \"mrcnn_bbox_fc\", \n",
    "          \"mrcnn_bbox\", \"mrcnn_mask\"]\n",
    "```"
   ]
  },
  {
   "cell_type": "code",
   "execution_count": null,
   "metadata": {
    "collapsed": true
   },
   "outputs": [],
   "source": [
    "# your code here"
   ]
  },
  {
   "cell_type": "markdown",
   "metadata": {},
   "source": [
    "### Train the model for 10 epochs [5 points]\n",
    "\n",
    "Look up the documentation or code for the train function to figure out its arguments.\n",
    "\n",
    "Pass the following additional arguments to the `train` function:\n",
    "\n",
    "   - `layers=\"heads\"` to only train the weights that were not pre-loaded.\n",
    "   - `learning_rate=config.LEARNING_RATE` to set the learning rate.\n",
    "   - `epochs=10`.\n",
    "   \n",
    "This will take ~10 minutes on a p2.xlarge GPU instance with 1 GPU."
   ]
  },
  {
   "cell_type": "code",
   "execution_count": null,
   "metadata": {
    "collapsed": true
   },
   "outputs": [],
   "source": [
    "%%time\n",
    "# call to train"
   ]
  },
  {
   "cell_type": "markdown",
   "metadata": {},
   "source": [
    "### Visualize learning progress with TensorBoard [5 points]\n",
    "\n",
    "   - Start Tensorboard with `tensorboard --logdir=logs/` in the same folder as the notebook:\n",
    "```\n",
    "TensorBoard 0.1.8 at http://ip-172-31-27-18:6006 (Press CTRL+C to quit)\n",
    "```\n",
    "\n",
    "   - Connect to `public_dns:6006` where `public_dns` is your public DNS.\n",
    "   - Click on the \"Scalars\" tab at the top of the page.\n",
    "   - Include a screenshot of the overall loss vs. number of epochs below this line (store the image in the same folder as the notebook as \"yourloss.png\".\n",
    "   \n",
    " <img src=\"yourloss.png\"/>"
   ]
  },
  {
   "cell_type": "markdown",
   "metadata": {},
   "source": [
    "### Test model [10 points]"
   ]
  },
  {
   "cell_type": "markdown",
   "metadata": {},
   "source": [
    "Load the model in inference (testing) mode."
   ]
  },
  {
   "cell_type": "code",
   "execution_count": null,
   "metadata": {
    "collapsed": true
   },
   "outputs": [],
   "source": [
    "# load model"
   ]
  },
  {
   "cell_type": "markdown",
   "metadata": {},
   "source": [
    "Load the last trained model weights."
   ]
  },
  {
   "cell_type": "code",
   "execution_count": null,
   "metadata": {
    "collapsed": true
   },
   "outputs": [],
   "source": [
    "model_path = model.find_last()[1] # use the last trained weights\n",
    "model.load_weights(model_path, by_name=True)"
   ]
  },
  {
   "cell_type": "markdown",
   "metadata": {},
   "source": [
    "Visualize the true annotations of a random test image."
   ]
  },
  {
   "cell_type": "code",
   "execution_count": null,
   "metadata": {
    "collapsed": true
   },
   "outputs": [],
   "source": [
    "image_id = random.choice(dataset_val.image_ids)\n",
    "original_image, image_meta, gt_class_id, gt_bbox, gt_mask =\\\n",
    "    modellib.load_image_gt(dataset_val, inference_config, \n",
    "                           image_id, use_mini_mask=False)\n",
    "\n",
    "log(\"original_image\", original_image)\n",
    "log(\"image_meta\", image_meta)\n",
    "log(\"gt_class_id\", gt_bbox)\n",
    "log(\"gt_bbox\", gt_bbox)\n",
    "log(\"gt_mask\", gt_mask)\n",
    "\n",
    "visualize.display_instances(original_image, gt_bbox, gt_mask, gt_class_id, \n",
    "                            dataset.class_names, figsize=(8, 8))"
   ]
  },
  {
   "cell_type": "markdown",
   "metadata": {},
   "source": [
    "Visualize the predicted annotations for this image"
   ]
  },
  {
   "cell_type": "code",
   "execution_count": null,
   "metadata": {
    "collapsed": true
   },
   "outputs": [],
   "source": [
    "# prediction function call and visualization"
   ]
  },
  {
   "cell_type": "markdown",
   "metadata": {},
   "source": [
    "# Part 3: Sentiment Analysis [50 points]\n",
    "\n",
    "Download data from: https://www.dropbox.com/s/ouhiwmzodc4baob/HW3-data-Sentiment.zip?dl=0 <br>\n",
    "\n",
    "The folder contains:\n",
    "\n",
    "- Train.csv\n",
    "- test.csv"
   ]
  },
  {
   "cell_type": "markdown",
   "metadata": {},
   "source": [
    "### Read the training data  [5 Points]\n",
    "\n",
    "Read the data present in training.csv file. **Please do no change the file name and use relative path, i.e. './HW3-data/train.csv'** <br>\n",
    "Perform the following cleaning on the data:\n",
    "1. Keep only the Sentiment and sentiment text in the dataframe - the first and the last coumn\n",
    "2. Some of the sentiments and sentiment texts are empty. Remove those rows.\n",
    "3. Shuffle the rows of the data frame such that the positive and negative tweets are mixed\n",
    "4. Print the first 5 sentiments.\n",
    "5. Print the number of positive and negative sentiments"
   ]
  },
  {
   "cell_type": "code",
   "execution_count": 1,
   "metadata": {},
   "outputs": [],
   "source": [
    "# your code here\n",
    "import pandas as pd\n",
    "dataOriginal = pd.read_csv('./HW3-data/train.csv',encoding = 'iso-8859-1')\n",
    "dataOriginal.columns=['A','B','C','D','E','F']"
   ]
  },
  {
   "cell_type": "code",
   "execution_count": 2,
   "metadata": {},
   "outputs": [],
   "source": [
    "dataOriginal.drop(['B','C','D','E'],axis = 1, inplace = True)"
   ]
  },
  {
   "cell_type": "code",
   "execution_count": 3,
   "metadata": {},
   "outputs": [
    {
     "data": {
      "text/html": [
       "<div>\n",
       "<style scoped>\n",
       "    .dataframe tbody tr th:only-of-type {\n",
       "        vertical-align: middle;\n",
       "    }\n",
       "\n",
       "    .dataframe tbody tr th {\n",
       "        vertical-align: top;\n",
       "    }\n",
       "\n",
       "    .dataframe thead th {\n",
       "        text-align: right;\n",
       "    }\n",
       "</style>\n",
       "<table border=\"1\" class=\"dataframe\">\n",
       "  <thead>\n",
       "    <tr style=\"text-align: right;\">\n",
       "      <th></th>\n",
       "      <th>A</th>\n",
       "      <th>F</th>\n",
       "    </tr>\n",
       "  </thead>\n",
       "  <tbody>\n",
       "    <tr>\n",
       "      <th>0</th>\n",
       "      <td>0</td>\n",
       "      <td>is upset that he can't update his Facebook by ...</td>\n",
       "    </tr>\n",
       "    <tr>\n",
       "      <th>1</th>\n",
       "      <td>0</td>\n",
       "      <td>@Kenichan I dived many times for the ball. Man...</td>\n",
       "    </tr>\n",
       "    <tr>\n",
       "      <th>2</th>\n",
       "      <td>0</td>\n",
       "      <td>my whole body feels itchy and like its on fire</td>\n",
       "    </tr>\n",
       "    <tr>\n",
       "      <th>3</th>\n",
       "      <td>0</td>\n",
       "      <td>@nationwideclass no, it's not behaving at all....</td>\n",
       "    </tr>\n",
       "    <tr>\n",
       "      <th>4</th>\n",
       "      <td>0</td>\n",
       "      <td>@Kwesidei not the whole crew</td>\n",
       "    </tr>\n",
       "    <tr>\n",
       "      <th>5</th>\n",
       "      <td>0</td>\n",
       "      <td>Need a hug</td>\n",
       "    </tr>\n",
       "    <tr>\n",
       "      <th>6</th>\n",
       "      <td>0</td>\n",
       "      <td>@LOLTrish hey  long time no see! Yes.. Rains a...</td>\n",
       "    </tr>\n",
       "    <tr>\n",
       "      <th>7</th>\n",
       "      <td>0</td>\n",
       "      <td>@Tatiana_K nope they didn't have it</td>\n",
       "    </tr>\n",
       "    <tr>\n",
       "      <th>8</th>\n",
       "      <td>0</td>\n",
       "      <td>@twittera que me muera ?</td>\n",
       "    </tr>\n",
       "    <tr>\n",
       "      <th>9</th>\n",
       "      <td>0</td>\n",
       "      <td>spring break in plain city... it's snowing</td>\n",
       "    </tr>\n",
       "    <tr>\n",
       "      <th>10</th>\n",
       "      <td>0</td>\n",
       "      <td>I just re-pierced my ears</td>\n",
       "    </tr>\n",
       "    <tr>\n",
       "      <th>11</th>\n",
       "      <td>0</td>\n",
       "      <td>@caregiving I couldn't bear to watch it.  And ...</td>\n",
       "    </tr>\n",
       "    <tr>\n",
       "      <th>12</th>\n",
       "      <td>0</td>\n",
       "      <td>@octolinz16 It it counts, idk why I did either...</td>\n",
       "    </tr>\n",
       "    <tr>\n",
       "      <th>13</th>\n",
       "      <td>0</td>\n",
       "      <td>@smarrison i would've been the first, but i di...</td>\n",
       "    </tr>\n",
       "    <tr>\n",
       "      <th>14</th>\n",
       "      <td>0</td>\n",
       "      <td>@iamjazzyfizzle I wish I got to watch it with ...</td>\n",
       "    </tr>\n",
       "    <tr>\n",
       "      <th>15</th>\n",
       "      <td>0</td>\n",
       "      <td>Hollis' death scene will hurt me severely to w...</td>\n",
       "    </tr>\n",
       "    <tr>\n",
       "      <th>16</th>\n",
       "      <td>0</td>\n",
       "      <td>about to file taxes</td>\n",
       "    </tr>\n",
       "    <tr>\n",
       "      <th>17</th>\n",
       "      <td>0</td>\n",
       "      <td>@LettyA ahh ive always wanted to see rent  lov...</td>\n",
       "    </tr>\n",
       "    <tr>\n",
       "      <th>18</th>\n",
       "      <td>0</td>\n",
       "      <td>@FakerPattyPattz Oh dear. Were you drinking ou...</td>\n",
       "    </tr>\n",
       "    <tr>\n",
       "      <th>19</th>\n",
       "      <td>0</td>\n",
       "      <td>@alydesigns i was out most of the day so didn'...</td>\n",
       "    </tr>\n",
       "    <tr>\n",
       "      <th>20</th>\n",
       "      <td>0</td>\n",
       "      <td>one of my friend called me, and asked to meet ...</td>\n",
       "    </tr>\n",
       "    <tr>\n",
       "      <th>21</th>\n",
       "      <td>0</td>\n",
       "      <td>@angry_barista I baked you a cake but I ated it</td>\n",
       "    </tr>\n",
       "    <tr>\n",
       "      <th>22</th>\n",
       "      <td>0</td>\n",
       "      <td>this week is not going as i had hoped</td>\n",
       "    </tr>\n",
       "    <tr>\n",
       "      <th>23</th>\n",
       "      <td>0</td>\n",
       "      <td>blagh class at 8 tomorrow</td>\n",
       "    </tr>\n",
       "    <tr>\n",
       "      <th>24</th>\n",
       "      <td>0</td>\n",
       "      <td>I hate when I have to call and wake people up</td>\n",
       "    </tr>\n",
       "    <tr>\n",
       "      <th>25</th>\n",
       "      <td>0</td>\n",
       "      <td>Just going to cry myself to sleep after watchi...</td>\n",
       "    </tr>\n",
       "    <tr>\n",
       "      <th>26</th>\n",
       "      <td>0</td>\n",
       "      <td>im sad now  Miss.Lilly</td>\n",
       "    </tr>\n",
       "    <tr>\n",
       "      <th>27</th>\n",
       "      <td>0</td>\n",
       "      <td>ooooh.... LOL  that leslie.... and ok I won't ...</td>\n",
       "    </tr>\n",
       "    <tr>\n",
       "      <th>28</th>\n",
       "      <td>0</td>\n",
       "      <td>Meh... Almost Lover is the exception... this t...</td>\n",
       "    </tr>\n",
       "    <tr>\n",
       "      <th>29</th>\n",
       "      <td>0</td>\n",
       "      <td>some1 hacked my account on aim  now i have to ...</td>\n",
       "    </tr>\n",
       "    <tr>\n",
       "      <th>...</th>\n",
       "      <td>...</td>\n",
       "      <td>...</td>\n",
       "    </tr>\n",
       "    <tr>\n",
       "      <th>1599969</th>\n",
       "      <td>1</td>\n",
       "      <td>Thanks @eastwestchic &amp;amp; @wangyip Thanks! Th...</td>\n",
       "    </tr>\n",
       "    <tr>\n",
       "      <th>1599970</th>\n",
       "      <td>1</td>\n",
       "      <td>@marttn thanks Martin. not the most imaginativ...</td>\n",
       "    </tr>\n",
       "    <tr>\n",
       "      <th>1599971</th>\n",
       "      <td>1</td>\n",
       "      <td>@MikeJonesPhoto Congrats Mike  Way to go!</td>\n",
       "    </tr>\n",
       "    <tr>\n",
       "      <th>1599972</th>\n",
       "      <td>1</td>\n",
       "      <td>http://twitpic.com/7jp4n - OMG! Office Space.....</td>\n",
       "    </tr>\n",
       "    <tr>\n",
       "      <th>1599973</th>\n",
       "      <td>1</td>\n",
       "      <td>@yrclndstnlvr ahaha nooo you were just away fr...</td>\n",
       "    </tr>\n",
       "    <tr>\n",
       "      <th>1599974</th>\n",
       "      <td>1</td>\n",
       "      <td>@BizCoachDeb  Hey, I'm baack! And, thanks so m...</td>\n",
       "    </tr>\n",
       "    <tr>\n",
       "      <th>1599975</th>\n",
       "      <td>1</td>\n",
       "      <td>@mattycus Yeah, my conscience would be clear i...</td>\n",
       "    </tr>\n",
       "    <tr>\n",
       "      <th>1599976</th>\n",
       "      <td>1</td>\n",
       "      <td>@MayorDorisWolfe Thats my girl - dishing out t...</td>\n",
       "    </tr>\n",
       "    <tr>\n",
       "      <th>1599977</th>\n",
       "      <td>1</td>\n",
       "      <td>@shebbs123 i second that</td>\n",
       "    </tr>\n",
       "    <tr>\n",
       "      <th>1599978</th>\n",
       "      <td>1</td>\n",
       "      <td>In the garden</td>\n",
       "    </tr>\n",
       "    <tr>\n",
       "      <th>1599979</th>\n",
       "      <td>1</td>\n",
       "      <td>@myheartandmind jo jen by nemuselo zrovna tÃ© ...</td>\n",
       "    </tr>\n",
       "    <tr>\n",
       "      <th>1599980</th>\n",
       "      <td>1</td>\n",
       "      <td>Another Commenting Contest! [;: Yay!!!  http:/...</td>\n",
       "    </tr>\n",
       "    <tr>\n",
       "      <th>1599981</th>\n",
       "      <td>1</td>\n",
       "      <td>@thrillmesoon i figured out how to see my twee...</td>\n",
       "    </tr>\n",
       "    <tr>\n",
       "      <th>1599982</th>\n",
       "      <td>1</td>\n",
       "      <td>@oxhot theri tomorrow, drinking coffee, talkin...</td>\n",
       "    </tr>\n",
       "    <tr>\n",
       "      <th>1599983</th>\n",
       "      <td>1</td>\n",
       "      <td>You heard it here first -- We're having a girl...</td>\n",
       "    </tr>\n",
       "    <tr>\n",
       "      <th>1599984</th>\n",
       "      <td>1</td>\n",
       "      <td>if ur the lead singer in a band, beware fallin...</td>\n",
       "    </tr>\n",
       "    <tr>\n",
       "      <th>1599985</th>\n",
       "      <td>1</td>\n",
       "      <td>@tarayqueen too much ads on my blog.</td>\n",
       "    </tr>\n",
       "    <tr>\n",
       "      <th>1599986</th>\n",
       "      <td>1</td>\n",
       "      <td>@La_r_a NEVEER  I think that you both will get...</td>\n",
       "    </tr>\n",
       "    <tr>\n",
       "      <th>1599987</th>\n",
       "      <td>1</td>\n",
       "      <td>@Roy_Everitt ha- good job. that's right - we g...</td>\n",
       "    </tr>\n",
       "    <tr>\n",
       "      <th>1599988</th>\n",
       "      <td>1</td>\n",
       "      <td>@Ms_Hip_Hop im glad ur doing well</td>\n",
       "    </tr>\n",
       "    <tr>\n",
       "      <th>1599989</th>\n",
       "      <td>1</td>\n",
       "      <td>WOOOOO! Xbox is back</td>\n",
       "    </tr>\n",
       "    <tr>\n",
       "      <th>1599990</th>\n",
       "      <td>1</td>\n",
       "      <td>@rmedina @LaTati Mmmm  That sounds absolutely ...</td>\n",
       "    </tr>\n",
       "    <tr>\n",
       "      <th>1599991</th>\n",
       "      <td>1</td>\n",
       "      <td>ReCoVeRiNg FrOm ThE lOnG wEeKeNd</td>\n",
       "    </tr>\n",
       "    <tr>\n",
       "      <th>1599992</th>\n",
       "      <td>1</td>\n",
       "      <td>@SCOOBY_GRITBOYS</td>\n",
       "    </tr>\n",
       "    <tr>\n",
       "      <th>1599993</th>\n",
       "      <td>1</td>\n",
       "      <td>@Cliff_Forster Yeah, that does work better tha...</td>\n",
       "    </tr>\n",
       "    <tr>\n",
       "      <th>1599994</th>\n",
       "      <td>1</td>\n",
       "      <td>Just woke up. Having no school is the best fee...</td>\n",
       "    </tr>\n",
       "    <tr>\n",
       "      <th>1599995</th>\n",
       "      <td>1</td>\n",
       "      <td>TheWDB.com - Very cool to hear old Walt interv...</td>\n",
       "    </tr>\n",
       "    <tr>\n",
       "      <th>1599996</th>\n",
       "      <td>1</td>\n",
       "      <td>Are you ready for your MoJo Makeover? Ask me f...</td>\n",
       "    </tr>\n",
       "    <tr>\n",
       "      <th>1599997</th>\n",
       "      <td>1</td>\n",
       "      <td>Happy 38th Birthday to my boo of alll time!!! ...</td>\n",
       "    </tr>\n",
       "    <tr>\n",
       "      <th>1599998</th>\n",
       "      <td>1</td>\n",
       "      <td>happy #charitytuesday @theNSPCC @SparksCharity...</td>\n",
       "    </tr>\n",
       "  </tbody>\n",
       "</table>\n",
       "<p>1599999 rows × 2 columns</p>\n",
       "</div>"
      ],
      "text/plain": [
       "         A                                                  F\n",
       "0        0  is upset that he can't update his Facebook by ...\n",
       "1        0  @Kenichan I dived many times for the ball. Man...\n",
       "2        0    my whole body feels itchy and like its on fire \n",
       "3        0  @nationwideclass no, it's not behaving at all....\n",
       "4        0                      @Kwesidei not the whole crew \n",
       "5        0                                        Need a hug \n",
       "6        0  @LOLTrish hey  long time no see! Yes.. Rains a...\n",
       "7        0               @Tatiana_K nope they didn't have it \n",
       "8        0                          @twittera que me muera ? \n",
       "9        0        spring break in plain city... it's snowing \n",
       "10       0                         I just re-pierced my ears \n",
       "11       0  @caregiving I couldn't bear to watch it.  And ...\n",
       "12       0  @octolinz16 It it counts, idk why I did either...\n",
       "13       0  @smarrison i would've been the first, but i di...\n",
       "14       0  @iamjazzyfizzle I wish I got to watch it with ...\n",
       "15       0  Hollis' death scene will hurt me severely to w...\n",
       "16       0                               about to file taxes \n",
       "17       0  @LettyA ahh ive always wanted to see rent  lov...\n",
       "18       0  @FakerPattyPattz Oh dear. Were you drinking ou...\n",
       "19       0  @alydesigns i was out most of the day so didn'...\n",
       "20       0  one of my friend called me, and asked to meet ...\n",
       "21       0   @angry_barista I baked you a cake but I ated it \n",
       "22       0             this week is not going as i had hoped \n",
       "23       0                         blagh class at 8 tomorrow \n",
       "24       0     I hate when I have to call and wake people up \n",
       "25       0  Just going to cry myself to sleep after watchi...\n",
       "26       0                             im sad now  Miss.Lilly\n",
       "27       0  ooooh.... LOL  that leslie.... and ok I won't ...\n",
       "28       0  Meh... Almost Lover is the exception... this t...\n",
       "29       0  some1 hacked my account on aim  now i have to ...\n",
       "...     ..                                                ...\n",
       "1599969  1  Thanks @eastwestchic &amp; @wangyip Thanks! Th...\n",
       "1599970  1  @marttn thanks Martin. not the most imaginativ...\n",
       "1599971  1          @MikeJonesPhoto Congrats Mike  Way to go!\n",
       "1599972  1  http://twitpic.com/7jp4n - OMG! Office Space.....\n",
       "1599973  1  @yrclndstnlvr ahaha nooo you were just away fr...\n",
       "1599974  1  @BizCoachDeb  Hey, I'm baack! And, thanks so m...\n",
       "1599975  1  @mattycus Yeah, my conscience would be clear i...\n",
       "1599976  1  @MayorDorisWolfe Thats my girl - dishing out t...\n",
       "1599977  1                          @shebbs123 i second that \n",
       "1599978  1                                     In the garden \n",
       "1599979  1  @myheartandmind jo jen by nemuselo zrovna tÃ© ...\n",
       "1599980  1  Another Commenting Contest! [;: Yay!!!  http:/...\n",
       "1599981  1  @thrillmesoon i figured out how to see my twee...\n",
       "1599982  1  @oxhot theri tomorrow, drinking coffee, talkin...\n",
       "1599983  1  You heard it here first -- We're having a girl...\n",
       "1599984  1  if ur the lead singer in a band, beware fallin...\n",
       "1599985  1              @tarayqueen too much ads on my blog. \n",
       "1599986  1  @La_r_a NEVEER  I think that you both will get...\n",
       "1599987  1  @Roy_Everitt ha- good job. that's right - we g...\n",
       "1599988  1                 @Ms_Hip_Hop im glad ur doing well \n",
       "1599989  1                              WOOOOO! Xbox is back \n",
       "1599990  1  @rmedina @LaTati Mmmm  That sounds absolutely ...\n",
       "1599991  1                  ReCoVeRiNg FrOm ThE lOnG wEeKeNd \n",
       "1599992  1                                  @SCOOBY_GRITBOYS \n",
       "1599993  1  @Cliff_Forster Yeah, that does work better tha...\n",
       "1599994  1  Just woke up. Having no school is the best fee...\n",
       "1599995  1  TheWDB.com - Very cool to hear old Walt interv...\n",
       "1599996  1  Are you ready for your MoJo Makeover? Ask me f...\n",
       "1599997  1  Happy 38th Birthday to my boo of alll time!!! ...\n",
       "1599998  1  happy #charitytuesday @theNSPCC @SparksCharity...\n",
       "\n",
       "[1599999 rows x 2 columns]"
      ]
     },
     "execution_count": 3,
     "metadata": {},
     "output_type": "execute_result"
    }
   ],
   "source": [
    "dataOriginal.dropna()"
   ]
  },
  {
   "cell_type": "code",
   "execution_count": 4,
   "metadata": {},
   "outputs": [],
   "source": [
    "from sklearn.utils import shuffle\n",
    "dataNeed = shuffle(dataOriginal)"
   ]
  },
  {
   "cell_type": "code",
   "execution_count": 5,
   "metadata": {},
   "outputs": [
    {
     "name": "stdout",
     "output_type": "stream",
     "text": [
      "         A                                                  F\n",
      "346432   0  The Internet's definitely messed up when you c...\n",
      "45733    0  is wondering if there's any hope for freshers ...\n",
      "1076938  1  videomatica - I *heart* you.  Thank you for ha...\n",
      "1526985  1  i just want to hang out and have fun!!   -Lets...\n",
      "1512546  1  @the_RSN I miss you too RALPH-pogi! HAHA. Aw I...\n"
     ]
    }
   ],
   "source": [
    "print(dataNeed.iloc[:][0:5])"
   ]
  },
  {
   "cell_type": "code",
   "execution_count": 6,
   "metadata": {},
   "outputs": [
    {
     "name": "stdout",
     "output_type": "stream",
     "text": [
      "positive sentiments numbers: 800000\n",
      "negative sentiments numbers: 799999\n"
     ]
    }
   ],
   "source": [
    "countN = 0\n",
    "countP = 0\n",
    "dataState = dataNeed.iloc[:,0]\n",
    "arrs = dataState.values\n",
    "for i in arrs:\n",
    "    if(i == 0):\n",
    "        countN +=1\n",
    "    if(i == 1):\n",
    "        countP +=1\n",
    "print(\"positive sentiments numbers:\", countP)\n",
    "print(\"negative sentiments numbers:\", countN)"
   ]
  },
  {
   "cell_type": "markdown",
   "metadata": {},
   "source": [
    "### Data Preparation [10 points]"
   ]
  },
  {
   "cell_type": "markdown",
   "metadata": {},
   "source": [
    "Before building a neural network model, we first need to prepare the data. The input to a RNN model  is a matrix with shape (a, b), where a is the number of samples (twitters), and b is the sequence length of each tweet. Prepare the data with the following steps:\n",
    "\n",
    "1\\. Take the RAW texts of the top 5000 tweets in the dataframe, and convert them to a list of strings, where each string is a tweet. [1 pt]"
   ]
  },
  {
   "cell_type": "code",
   "execution_count": 7,
   "metadata": {},
   "outputs": [],
   "source": [
    "# your code here\n",
    "import numpy as np\n",
    "rawFrame = dataNeed.iloc[:5000,1:2]\n",
    "train_data = np.array(rawFrame)\n",
    "train_list = train_data.tolist()"
   ]
  },
  {
   "cell_type": "markdown",
   "metadata": {},
   "source": [
    "2\\. Use `Tokenizer` from `keras.preprocessing.text` to tokenize the texts and convert them to sequences (numbers) with `texts_to_sequences` method of `Tokenizer`. **When tokenizing, please only consider the top 10,000 words in the dataset (`num_words`=10,000)**. [4 pts]"
   ]
  },
  {
   "cell_type": "code",
   "execution_count": 8,
   "metadata": {
    "scrolled": true
   },
   "outputs": [
    {
     "name": "stderr",
     "output_type": "stream",
     "text": [
      "Using TensorFlow backend.\n"
     ]
    }
   ],
   "source": [
    "# your code here\n",
    "\n",
    "from keras.preprocessing.text import Tokenizer\n",
    "tokenizer = Tokenizer(num_words=10000)\n",
    "tokenizer.fit_on_texts(train_list)\n",
    "sequences = tokenizer.texts_to_sequences(train_list)"
   ]
  },
  {
   "cell_type": "markdown",
   "metadata": {},
   "source": [
    "3\\. Use `pad_sequences` from `keras.preprocessing.sequence` to pad each sequence with zeros to **make the sequence length 120**. [2 pts]"
   ]
  },
  {
   "cell_type": "code",
   "execution_count": 9,
   "metadata": {},
   "outputs": [],
   "source": [
    "# your code here\n",
    "from keras.preprocessing.sequence import pad_sequences\n",
    "padding_sequence = pad_sequences(sequences,maxlen=120)"
   ]
  },
  {
   "cell_type": "markdown",
   "metadata": {},
   "source": [
    "4\\. Split the above data (the sequence and the label) into training (67%) and validation (33%) sets. [3 pts]"
   ]
  },
  {
   "cell_type": "code",
   "execution_count": 14,
   "metadata": {},
   "outputs": [],
   "source": [
    "# your code here\n",
    "from keras.datasets import imdb\n",
    "from keras.preprocessing import sequence\n",
    "array_label = np.array(dataState)\n",
    "list_label = array_label.tolist()\n",
    "label = []\n",
    "indices = np.arange(padding_sequence.shape[0])\n",
    "np.random.shuffle(indices)\n",
    "padding_sequence = padding_sequence[indices]\n",
    "for i in indices:\n",
    "    label.append(list_label[i])\n",
    "validation = int(0.33*padding_sequence.shape[0])\n",
    "x_train = padding_sequence[:-validation]\n",
    "y_train = label[:-validation]\n",
    "x_test = padding_sequence[-validation:]\n",
    "y_test = label[-validation:]"
   ]
  },
  {
   "cell_type": "markdown",
   "metadata": {},
   "source": [
    "###  RNN [20 points]\n",
    "\n",
    "i) [8 points] Build a simple RNN model with the following specification:\n",
    "1. An embedding layer with output dimenstion 64.\n",
    "2. A simple RNN layer.\n",
    "3. A dense layer with sigmoid activation function for prediction.\n",
    "Print the summary of the model."
   ]
  },
  {
   "cell_type": "code",
   "execution_count": 23,
   "metadata": {},
   "outputs": [
    {
     "name": "stdout",
     "output_type": "stream",
     "text": [
      "_________________________________________________________________\n",
      "Layer (type)                 Output Shape              Param #   \n",
      "=================================================================\n",
      "embedding_2 (Embedding)      (None, 120, 64)           640000    \n",
      "_________________________________________________________________\n",
      "flatten_2 (Flatten)          (None, 7680)              0         \n",
      "_________________________________________________________________\n",
      "dense_3 (Dense)              (None, 32)                245792    \n",
      "_________________________________________________________________\n",
      "dense_4 (Dense)              (None, 1)                 33        \n",
      "=================================================================\n",
      "Total params: 885,825\n",
      "Trainable params: 885,825\n",
      "Non-trainable params: 0\n",
      "_________________________________________________________________\n"
     ]
    }
   ],
   "source": [
    "# your code here\n",
    "from keras.models import Sequential\n",
    "from keras.layers import Embedding, Flatten, Dense\n",
    "max_words = 10000\n",
    "embedding_dim = 64\n",
    "# initialize the model\n",
    "feedforward_model = Sequential()\n",
    "# add the embedding layer; it takes 3 arguments: the total number of words (10000), \n",
    "# embedding dimension(100), and the input length (100)--the last argument is required \n",
    "# as we are going to connect Flatten then Dense layers (without it, the shape of\n",
    "# the dense outputs cannot be computed).\n",
    "feedforward_model.add(Embedding(max_words, embedding_dim, input_length=120))\n",
    "# then flatten the 3D tensor into a 2D matrix as the input for the subsequent layer\n",
    "feedforward_model.add(Flatten())\n",
    "# add a dense layer with 32 nodes\n",
    "feedforward_model.add(Dense(32, activation='relu'))\n",
    "# add a logistic regression binary classifier\n",
    "feedforward_model.add(Dense(1, activation='sigmoid'))\n",
    "feedforward_model.summary()"
   ]
  },
  {
   "cell_type": "markdown",
   "metadata": {},
   "source": [
    "ii) [12 points] Now train the simple RNN model:\n",
    "\n",
    "1\\. Compile the model with binary cross entory as loss and accuracy as evaluation metrics."
   ]
  },
  {
   "cell_type": "code",
   "execution_count": 24,
   "metadata": {},
   "outputs": [],
   "source": [
    "# your code here\n",
    "# compile and train the model\n",
    "feedforward_model.compile(optimizer='rmsprop',\n",
    "              loss='binary_crossentropy',\n",
    "              metrics=['acc'])"
   ]
  },
  {
   "cell_type": "markdown",
   "metadata": {},
   "source": [
    "2\\. Fit the model with the training set with 5 epochs and batch size 32."
   ]
  },
  {
   "cell_type": "code",
   "execution_count": 25,
   "metadata": {},
   "outputs": [
    {
     "name": "stdout",
     "output_type": "stream",
     "text": [
      "Train on 2680 samples, validate on 670 samples\n",
      "Epoch 1/5\n",
      "2680/2680 [==============================] - 3s 1ms/step - loss: 0.6966 - acc: 0.5015 - val_loss: 0.6931 - val_acc: 0.5030\n",
      "Epoch 2/5\n",
      "2680/2680 [==============================] - 0s 137us/step - loss: 0.6932 - acc: 0.5000 - val_loss: 0.6931 - val_acc: 0.5030\n",
      "Epoch 3/5\n",
      "2680/2680 [==============================] - 0s 138us/step - loss: 0.6932 - acc: 0.5000 - val_loss: 0.6931 - val_acc: 0.5030\n",
      "Epoch 4/5\n",
      "2680/2680 [==============================] - 0s 137us/step - loss: 0.6932 - acc: 0.4896 - val_loss: 0.6931 - val_acc: 0.5030\n",
      "Epoch 5/5\n",
      "2680/2680 [==============================] - 0s 137us/step - loss: 0.6932 - acc: 0.4754 - val_loss: 0.6931 - val_acc: 0.4970\n"
     ]
    }
   ],
   "source": [
    "# your code here\n",
    "history = feedforward_model.fit(x_train, y_train,\n",
    "                                validation_split=0.2,\n",
    "                                epochs=5,\n",
    "                                batch_size=32)"
   ]
  },
  {
   "cell_type": "markdown",
   "metadata": {},
   "source": [
    "3\\. Plot the training and validation accuracy for each epoch."
   ]
  },
  {
   "cell_type": "code",
   "execution_count": 28,
   "metadata": {},
   "outputs": [
    {
     "data": {
      "text/plain": [
       "<matplotlib.legend.Legend at 0x7f35d6f7d4e0>"
      ]
     },
     "execution_count": 28,
     "metadata": {},
     "output_type": "execute_result"
    },
    {
     "data": {
      "image/png": "[encoded data removed]",
      "text/plain": [
       "<Figure size 432x288 with 1 Axes>"
      ]
     },
     "metadata": {},
     "output_type": "display_data"
    }
   ],
   "source": [
    "# your code here\n",
    "# plot the accuracy rates for each epoch on training and validation data\n",
    "\n",
    "%matplotlib inline\n",
    "import matplotlib.pyplot as plt\n",
    "import numpy as np\n",
    "acc = history.history['acc']\n",
    "val_acc = history.history['val_acc']\n",
    "epochs = range(1, len(acc) + 1)\n",
    "plt.plot(epochs, acc, 'bo', label='Training acc')\n",
    "plt.plot(epochs, val_acc, 'b', label='Validation acc')\n",
    "plt.title('Training and validation accuracy')\n",
    "plt.legend()"
   ]
  },
  {
   "cell_type": "markdown",
   "metadata": {},
   "source": [
    "### LSTM [10 points] "
   ]
  },
  {
   "cell_type": "markdown",
   "metadata": {},
   "source": [
    "i) [2 point] Now built a LSTM model by replacing the simple RNN layter in the above model with a LSTM layer. Print a summary of the LSTM model."
   ]
  },
  {
   "cell_type": "code",
   "execution_count": 30,
   "metadata": {},
   "outputs": [
    {
     "name": "stdout",
     "output_type": "stream",
     "text": [
      "_________________________________________________________________\n",
      "Layer (type)                 Output Shape              Param #   \n",
      "=================================================================\n",
      "embedding_4 (Embedding)      (None, None, 64)          640000    \n",
      "_________________________________________________________________\n",
      "lstm_2 (LSTM)                (None, 64)                33024     \n",
      "_________________________________________________________________\n",
      "dense_6 (Dense)              (None, 1)                 65        \n",
      "=================================================================\n",
      "Total params: 673,089\n",
      "Trainable params: 33,089\n",
      "Non-trainable params: 640,000\n",
      "_________________________________________________________________\n"
     ]
    }
   ],
   "source": [
    "# your code here\n",
    "from keras.models import Sequential\n",
    "from keras.layers import Embedding, LSTM, Dense\n",
    "rnn_model = Sequential()\n",
    "rnn_model.add(Embedding(max_words, embedding_dim))\n",
    "rnn_model.add(LSTM(embedding_dim))\n",
    "rnn_model.add(Dense(1, activation='sigmoid'))\n",
    "rnn_model.layers[0].trainable = False\n",
    "rnn_model.summary()"
   ]
  },
  {
   "cell_type": "markdown",
   "metadata": {},
   "source": [
    "ii) [2 point] Train the LSTM model with the same specifications in the simple RNN model. Again, plot the training and validation accuracy for each epoch."
   ]
  },
  {
   "cell_type": "code",
   "execution_count": 31,
   "metadata": {},
   "outputs": [
    {
     "name": "stdout",
     "output_type": "stream",
     "text": [
      "Train on 2680 samples, validate on 670 samples\n",
      "Epoch 1/5\n",
      "2680/2680 [==============================] - 15s 6ms/step - loss: 0.6939 - acc: 0.4959 - val_loss: 0.6932 - val_acc: 0.4806\n",
      "Epoch 2/5\n",
      "2680/2680 [==============================] - 13s 5ms/step - loss: 0.6931 - acc: 0.5164 - val_loss: 0.6932 - val_acc: 0.4881\n",
      "Epoch 3/5\n",
      "2680/2680 [==============================] - 13s 5ms/step - loss: 0.6933 - acc: 0.5045 - val_loss: 0.6932 - val_acc: 0.5045\n",
      "Epoch 4/5\n",
      "2680/2680 [==============================] - 14s 5ms/step - loss: 0.6929 - acc: 0.4951 - val_loss: 0.6933 - val_acc: 0.4985\n",
      "Epoch 5/5\n",
      "2680/2680 [==============================] - 13s 5ms/step - loss: 0.6926 - acc: 0.5060 - val_loss: 0.6932 - val_acc: 0.5030\n"
     ]
    },
    {
     "data": {
      "image/png": "[encoded data removed]",
      "text/plain": [
       "<Figure size 432x288 with 1 Axes>"
      ]
     },
     "metadata": {},
     "output_type": "display_data"
    }
   ],
   "source": [
    "# your code here\n",
    "rnn_model.compile(optimizer='rmsprop',\n",
    "              loss='binary_crossentropy',\n",
    "              metrics=['acc'])\n",
    "history = rnn_model.fit(x_train, y_train,\n",
    "                        validation_split=0.2,\n",
    "                        epochs=5,\n",
    "                        batch_size=32)\n",
    "acc = history.history['acc']\n",
    "val_acc = history.history['val_acc']\n",
    "epochs = range(1, len(acc) + 1)\n",
    "plt.plot(epochs, acc, 'bo', label='Training acc')\n",
    "plt.plot(epochs, val_acc, 'b', label='Validation acc')\n",
    "plt.title('Training and validation accuracy')\n",
    "plt.legend()\n",
    "plt.show()"
   ]
  },
  {
   "cell_type": "markdown",
   "metadata": {},
   "source": [
    "iii) [6 points] In the previous models, we only use the top 5000 tweets. Now use the whole dataset, split it into training (67%) and validation (33%) set, and train the same LSTM model on the new traning data. plot the training and validation accuracy for each epoch."
   ]
  },
  {
   "cell_type": "code",
   "execution_count": 13,
   "metadata": {
    "collapsed": true
   },
   "outputs": [],
   "source": [
    "# your code here\n",
    "rnn_model = Sequential()\n",
    "rnn_model.add(Embedding(max_words, embedding_dim))\n",
    "rnn_model.add(LSTM(embedding_dim))\n",
    "rnn_model.add(Dense(1, activation='sigmoid'))\n",
    "\n",
    "rnn_model.summary()\n",
    "\n",
    "rnn_model.compile(optimizer='rmsprop',\n",
    "              loss='binary_crossentropy',\n",
    "              metrics=['acc'])\n",
    "history = rnn_model.fit(x_train, y_train,\n",
    "                        validation_split=0.2,\n",
    "                        epochs=5,\n",
    "                        batch_size=1024) "
   ]
  },
  {
   "cell_type": "code",
   "execution_count": null,
   "metadata": {},
   "outputs": [],
   "source": [
    "acc = history.history['acc']\n",
    "val_acc = history.history['val_acc']\n",
    "epochs = range(1, len(acc) + 1)\n",
    "plt.plot(epochs, acc, 'bo', label='Training acc')\n",
    "plt.plot(epochs, val_acc, 'b', label='Validation acc')\n",
    "plt.title('Training and validation accuracy')\n",
    "plt.legend()\n",
    "plt.show()"
   ]
  },
  {
   "cell_type": "markdown",
   "metadata": {},
   "source": [
    "### Results Comparision [5 points]\n",
    "\n",
    "1\\. [2 points] Compare the simple RNN model and the LSTM model (trained on the 5000 tweets sample). Which one has a better performance? Why does this one outperform the other one?"
   ]
  },
  {
   "cell_type": "markdown",
   "metadata": {},
   "source": [
    "(your answer here)"
   ]
  },
  {
   "cell_type": "markdown",
   "metadata": {},
   "source": [
    "2\\. [3 points] Compare the LSTM model trained on a 5000 tweets sample and the one trained on the whole dataset. What are the cost and the benefit of each case?"
   ]
  },
  {
   "cell_type": "markdown",
   "metadata": {},
   "source": [
    "(your answer here)"
   ]
  },
  {
   "cell_type": "markdown",
   "metadata": {},
   "source": [
    "# Part 4: Questionnaire [5 points]\n",
    "\n",
    "Please answer this questionnaire: https://goo.gl/forms/eN6pUx6QPIg2K9w13"
   ]
  }
 ],
 "metadata": {
  "kernelspec": {
   "display_name": "Python 3",
   "language": "python",
   "name": "python3"
  },
  "language_info": {
   "codemirror_mode": {
    "name": "ipython",
    "version": 3
   },
   "file_extension": ".py",
   "mimetype": "text/x-python",
   "name": "python",
   "nbconvert_exporter": "python",
   "pygments_lexer": "ipython3",
   "version": "3.7.0"
  }
 },
 "nbformat": 4,
 "nbformat_minor": 2
}
