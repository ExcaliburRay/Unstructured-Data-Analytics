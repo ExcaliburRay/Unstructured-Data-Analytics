{
 "cells": [
  {
   "cell_type": "markdown",
   "metadata": {},
   "source": [
    "# 95-865 Fall 2018 Final Exam"
   ]
  },
  {
   "cell_type": "markdown",
   "metadata": {},
   "source": [
    "Your name: Ruixin Huang\n",
    "\n",
    "Your Andrew ID: ruixinh"
   ]
  },
  {
   "cell_type": "markdown",
   "metadata": {},
   "source": [
    "**Preamble**: You will need to install `joblib`, which can be done via the terminal command below:\n",
    "\n",
    "```\n",
    "conda install -c anaconda joblib\n",
    "```\n",
    "\n",
    "When loading `fashion_mystery.hd5` in Problem 2(c), if you run into an error saying `ValueError: Unknown layer:name`, please update your version of `keras` so that the file actually loads. A related post: https://stackoverflow.com/questions/53180589/keras-valueerror-unknown-layername-when-trying-to-load-model-to-another-platf?noredirect=1&lq=1"
   ]
  },
  {
   "cell_type": "markdown",
   "metadata": {},
   "source": [
    "There are three problems on this exam. You can do these three problems in any order. Problem 1 is a short warmup problem *with no coding*. Problems 2 and 3 involve coding. We have prepared a bunch of imports for you in the next cell. Please execute this before you do problems 2 and 3."
   ]
  },
  {
   "cell_type": "code",
   "execution_count": 1,
   "metadata": {},
   "outputs": [
    {
     "name": "stderr",
     "output_type": "stream",
     "text": [
      "Using TensorFlow backend.\n"
     ]
    }
   ],
   "source": [
    "%matplotlib inline\n",
    "\n",
    "import numpy as np\n",
    "import matplotlib.pyplot as plt\n",
    "from matplotlib.pyplot import imshow\n",
    "import seaborn as sn\n",
    "plt.style.use('ggplot')\n",
    "# %config InlineBackend.figure_format = 'retina'  # if you use a Mac with Retina display\n",
    "\n",
    "from sklearn.linear_model import LogisticRegression\n",
    "from sklearn.model_selection import KFold\n",
    "from sklearn.decomposition import PCA\n",
    "from keras.models import load_model\n",
    "from keras.utils import to_categorical\n",
    "from sklearn.svm import LinearSVC\n",
    "from sklearn.ensemble import RandomForestClassifier\n",
    "from sklearn.preprocessing import StandardScaler\n",
    "from sklearn.metrics import confusion_matrix\n",
    "\n",
    "import joblib\n",
    "\n",
    "# these next three lines are meant to turn off GPU usage\n",
    "# (for this final exam, you do not need a GPU)\n",
    "import os\n",
    "os.environ[\"CUDA_DEVICE_ORDER\"] = \"PCI_BUS_ID\"\n",
    "os.environ[\"CUDA_VISIBLE_DEVICES\"] = \"-1\""
   ]
  },
  {
   "cell_type": "markdown",
   "metadata": {},
   "source": [
    "# Problem 1: Warm-Up [10 points]"
   ]
  },
  {
   "cell_type": "markdown",
   "metadata": {},
   "source": [
    "(a) Answer if the given statement is true or false, and provide your reason: \"Stochastic gradient descent is a special case of minibatch gradient descent.\""
   ]
  },
  {
   "cell_type": "markdown",
   "metadata": {},
   "source": [
    "**Your answer (no code)**: The statement is ture, I think the reason is In the stochastic gradient descent method, the parameters in the model are adjusted according to only one sample at a time, which is equivalent to the mini-batch gradient descent in the case of b=1 described above, that is, there is only one training sample in each mini-batch. So, this could be explained why \"Stochastic gradient descent is a special case of minibatch gradient descent.\""
   ]
  },
  {
   "cell_type": "markdown",
   "metadata": {},
   "source": [
    "(b) Consider a length-3 sequence [x, y, z] (if you want, you can think of this as an image with 1 row and 3 columns, where the pixel's have values x, y, and z]). We feed this sequence as the input to a convolutional layer with two filters [a, b] and [c, d]. This convolutional layer does not do any padding. What is the output of this convolutional layer in terms of the variables x, y, z, a, b, c, d?"
   ]
  },
  {
   "cell_type": "markdown",
   "metadata": {},
   "source": [
    "**Your answer (no code)**: the output concolutional layer one after using filter [a,b] is [x*a+x*b,y*a+y*b,z*a+z*b], the output convolutional layer two after using filter[c,d] is [x*c+x*d,y*c+y*d,z*c+z*d]"
   ]
  },
  {
   "cell_type": "markdown",
   "metadata": {},
   "source": [
    "(c) Your manager wants you to build an algorithm to detect if news articles being featured on your website are fake or not. You train a probabilistic classifier such as logistic regression which treats fake articles as the positive class and real news articles as the negative class. You show your manager the accuracy, precision, and recall of your trained model. Your manager states that it would be great if the algorithm could be tuned so that the anti-abuse team at your company only has to investigate the news articles which are marked with the highest probability of being fake while not generating too many false positives which the team has to investigate needlessly. In this situation, will you use the precision-recall curve or the receiver operating characteristic (ROC) curve to decide the probability threshold above which news articles are marked as fake?"
   ]
  },
  {
   "cell_type": "markdown",
   "metadata": {},
   "source": [
    "**Your answer (no code)**:  Yes, I would use PRC or ROC model, due to setting the real new articals as the negative class. In the real situation, the quantity of real articals always much more than fake articals, we hope we can check all of the fake news, even sacrify the accurancy. Besides, we also will hope we can check each new in the right situation, we don't want to serve real news become fake news. Because of this, we need to make sure the recall is low. Therefore, it is useful to use PRC and ROC model."
   ]
  },
  {
   "cell_type": "markdown",
   "metadata": {},
   "source": [
    "(d) Answer if the given statement is true or false, and provide your reason: \"The cross-entropy loss is applicable only to binary classification. For number of classes beyond 2, we need to use more general losses such as KL divergence.\""
   ]
  },
  {
   "cell_type": "markdown",
   "metadata": {},
   "source": [
    "**Your answer (no code)**: This is false. because in term of any model trained by the gradient optimization method, minimizing the cross-entropy between the data distribution and the model distribution gives the same result as the minimized KL divergence. cross-entropy not only suit for binary, but also suit for mutiple"
   ]
  },
  {
   "cell_type": "markdown",
   "metadata": {},
   "source": [
    "(e) Answer if the given statement is true or false, and provide your reason: \"t-SNE dimensionality reduction algorithm models the distribution of distances in both the original and embedding space using Student's t-distribution.\""
   ]
  },
  {
   "cell_type": "markdown",
   "metadata": {},
   "source": [
    "**Your answer (no code)**: It is false. Because Studen's t-distribution in t-SNE is used to figure out the similarity in embedding space instead of distances."
   ]
  },
  {
   "cell_type": "markdown",
   "metadata": {},
   "source": [
    "# Problem 2: Dimensionality reduction and prediction [50 points]"
   ]
  },
  {
   "cell_type": "markdown",
   "metadata": {},
   "source": [
    "One of the main concepts in 95-865 is that even though unstructured data often come from high-dimensional feature spaces, they actually usually exhibit some sort of low-dimensional structure. In the first half of the class, we looked at *unsupervised* dimensionality reduction. In this problem, we look at how combining unsupervised dimensionality reduction method (e.g., PCA, t-SNE) with a classifier compares with an \"end-to-end\" neural net approach that tries to learn everything at once. To answer this question, we focus on an image classification and examine four different approaches:\n",
    "\n",
    "(a) No dimensionality reduction at all: use the raw features for classification.\n",
    "\n",
    "(b) Reduce the dimensionality of the data using PCA, and *use the low-dimensional PCA representation* of the data for classification.\n",
    "\n",
    "(c) The same thing as approach (b) except where we use Isomap instead of PCA.\n",
    "\n",
    "(d) A simple neural net approach that automatically learns a low-dimensional representation while also making predictions.\n",
    "\n",
    "For approaches (a), (b), and (c), we use logistic regression (generalized to multiple classes) as the classifier (so that the classifier used in all four approaches corresponds to logistic regression). Note that for approaches (a), (b), and (c), your code should not use `keras`.\n",
    "\n",
    "**Data**: In exploring these approaches, we use the Fashion MNIST dataset, which you saw during the mid-mini quiz. As a reminder, this dataset is collected by Zalando Research and is similar to the popular MNIST dataset for handwritten digit recognition that we have seen throughout 95-865. Each image is 28-by-28 pixels and has a numerical label from 0, 1, ..., up to 9 (**0 → T-shirt/top, 1 → Trouser, 2 → Pullover, 3 → Dress, 4 → Coat, 5 →\n",
    "Sandal, 6 → Shirt, 7 → Sneaker, 8 → Bag, 9 → Ankle boot**). Example images from the dataset are shown below.\n",
    "\n",
    "![Example Images](fashion-mnist-sprite.png)"
   ]
  },
  {
   "cell_type": "markdown",
   "metadata": {},
   "source": [
    "We have already curated training and test data for you. Please run the next cell before moving on to the subsequent parts. Note that each image has been flattened already."
   ]
  },
  {
   "cell_type": "code",
   "execution_count": 2,
   "metadata": {},
   "outputs": [
    {
     "name": "stdout",
     "output_type": "stream",
     "text": [
      "(9000, 784) (9000,)\n",
      "(1000, 784) (1000,)\n"
     ]
    }
   ],
   "source": [
    "X_train = np.loadtxt('fashion_X_train.txt')\n",
    "y_train = np.loadtxt('fashion_y_train.txt')\n",
    "X_test = np.loadtxt('fashion_X_test.txt')\n",
    "y_test = np.loadtxt('fashion_y_test.txt')\n",
    "print(X_train.shape, y_train.shape)\n",
    "print(X_test.shape, y_test.shape)"
   ]
  },
  {
   "cell_type": "markdown",
   "metadata": {},
   "source": [
    "## Problem 2(a): Multiclass logistic regression without dimensionality reduction"
   ]
  },
  {
   "cell_type": "markdown",
   "metadata": {},
   "source": [
    "Using the training data, train a classifier using scikit-learn's `LogisticRegression` class (from `sklearn.linear_model`). Please use the following parameters when creating your `LogisticRegression` object (do not set any of the other parameters):\n",
    "\n",
    "- Set `multi_class` to `'multinomial'` (so that the classifer uses categorical cross entropy loss)\n",
    "- Set `solver` to `'lbfgs'`\n",
    "- Set `random_state` to 0\n",
    "- Set `C` to 10000 (intentionally reduce the amount of regularization)\n",
    "\n",
    "After training the classifier, compute and print the prediction accuracy (fraction of correct predictions) on the test data."
   ]
  },
  {
   "cell_type": "code",
   "execution_count": 21,
   "metadata": {},
   "outputs": [
    {
     "data": {
      "text/plain": [
       "0.8967777777777778"
      ]
     },
     "execution_count": 21,
     "metadata": {},
     "output_type": "execute_result"
    }
   ],
   "source": [
    "# ------------------------------------------------------------------------------\n",
    "# TODO: WRITE YOUR CODE HERE\n",
    "#\n",
    "clf = LogisticRegression(random_state=0,solver='lbfgs',multi_class='multinomial',C=10000)\n",
    "clf.fit(X_train,y_train)\n",
    "clf.score(X_train,y_train)\n",
    "#\n",
    "# END OF YOUR CODE\n",
    "# ------------------------------------------------------------------------------"
   ]
  },
  {
   "cell_type": "markdown",
   "metadata": {},
   "source": [
    "## Problem 2(b): PCA with multiclass logistic regression"
   ]
  },
  {
   "cell_type": "markdown",
   "metadata": {},
   "source": [
    "### Problem 2(b)-Subpart (i)\n",
    "\n",
    "Now we are going to try the following approach:\n",
    "\n",
    "1. Reduce the dimensionality of the input data using PCA\n",
    "2. Train a logistic regression classifier using the transformed (i.e., low-dimensional) representation of the input data as feature vectors (and using the original labels); for the logistic regression classifier, use the exact same algorithm parameters as for part (a), including `random_state=0`\n",
    "\n",
    "Note that there is a single hyperparameter here: the number of dimensions to reduce to. Use 5-fold cross validation (using raw accuracy) to select this number of dimensions from integers 10, 20, 30, ..., 100. Importantly, at no point should your training procedure for doing the above two steps ever be looking at test data (`X_test` and `y_test`). **After doing the cross validation, plot the cross validation score vs PCA dimensionality and also be sure to store and print out what the best number of dimensions is.**\n",
    "\n",
    "To be clear: how one trains a model for this proposed approach is to first fit a PCA model, use it to obtain the lower-dimensional representation, and then use the low dimensional representation to train a logistic regression classifier. When using the model to make predictions, you should *not* be doing any refitting!"
   ]
  },
  {
   "cell_type": "code",
   "execution_count": 31,
   "metadata": {},
   "outputs": [
    {
     "ename": "ValueError",
     "evalue": "Found input variables with inconsistent numbers of samples: [7200, 9000]",
     "output_type": "error",
     "traceback": [
      "\u001b[0;31m---------------------------------------------------------------------------\u001b[0m",
      "\u001b[0;31mValueError\u001b[0m                                Traceback (most recent call last)",
      "\u001b[0;32m<ipython-input-31-a1b5ed41fe28>\u001b[0m in \u001b[0;36m<module>\u001b[0;34m()\u001b[0m\n\u001b[1;32m     20\u001b[0m     \u001b[0;32mfor\u001b[0m \u001b[0mk\u001b[0m\u001b[0;34m,\u001b[0m \u001b[0;34m(\u001b[0m\u001b[0mtrain\u001b[0m\u001b[0;34m,\u001b[0m \u001b[0mval\u001b[0m\u001b[0;34m)\u001b[0m \u001b[0;32min\u001b[0m \u001b[0menumerate\u001b[0m\u001b[0;34m(\u001b[0m\u001b[0mkf\u001b[0m\u001b[0;34m.\u001b[0m\u001b[0msplit\u001b[0m\u001b[0;34m(\u001b[0m\u001b[0mX_train_std\u001b[0m\u001b[0;34m,\u001b[0m \u001b[0my_train\u001b[0m\u001b[0;34m)\u001b[0m\u001b[0;34m)\u001b[0m\u001b[0;34m:\u001b[0m\u001b[0;34m\u001b[0m\u001b[0m\n\u001b[1;32m     21\u001b[0m         \u001b[0mclf\u001b[0m \u001b[0;34m=\u001b[0m \u001b[0mLogisticRegression\u001b[0m\u001b[0;34m(\u001b[0m\u001b[0mrandom_state\u001b[0m\u001b[0;34m=\u001b[0m\u001b[0;36m0\u001b[0m\u001b[0;34m)\u001b[0m\u001b[0;34m\u001b[0m\u001b[0m\n\u001b[0;32m---> 22\u001b[0;31m         \u001b[0mclf\u001b[0m\u001b[0;34m.\u001b[0m\u001b[0mfit\u001b[0m\u001b[0;34m(\u001b[0m\u001b[0mX_train_std\u001b[0m\u001b[0;34m[\u001b[0m\u001b[0mtrain\u001b[0m\u001b[0;34m]\u001b[0m\u001b[0;34m,\u001b[0m \u001b[0my_train\u001b[0m\u001b[0;34m)\u001b[0m\u001b[0;34m\u001b[0m\u001b[0m\n\u001b[0m\u001b[1;32m     23\u001b[0m         \u001b[0mypred\u001b[0m \u001b[0;34m=\u001b[0m \u001b[0mclf\u001b[0m\u001b[0;34m.\u001b[0m\u001b[0mpredict\u001b[0m\u001b[0;34m(\u001b[0m\u001b[0mX_train_std\u001b[0m\u001b[0;34m[\u001b[0m\u001b[0mval\u001b[0m\u001b[0;34m]\u001b[0m\u001b[0;34m)\u001b[0m\u001b[0;34m\u001b[0m\u001b[0m\n\u001b[1;32m     24\u001b[0m         \u001b[0myval\u001b[0m \u001b[0;34m=\u001b[0m \u001b[0my_train\u001b[0m\u001b[0;34m[\u001b[0m\u001b[0mval\u001b[0m\u001b[0;34m]\u001b[0m\u001b[0;34m\u001b[0m\u001b[0m\n",
      "\u001b[0;32m~/anaconda3/envs/tensorflow_p36/lib/python3.6/site-packages/sklearn/linear_model/logistic.py\u001b[0m in \u001b[0;36mfit\u001b[0;34m(self, X, y, sample_weight)\u001b[0m\n\u001b[1;32m   1214\u001b[0m \u001b[0;34m\u001b[0m\u001b[0m\n\u001b[1;32m   1215\u001b[0m         X, y = check_X_y(X, y, accept_sparse='csr', dtype=_dtype,\n\u001b[0;32m-> 1216\u001b[0;31m                          order=\"C\")\n\u001b[0m\u001b[1;32m   1217\u001b[0m         \u001b[0mcheck_classification_targets\u001b[0m\u001b[0;34m(\u001b[0m\u001b[0my\u001b[0m\u001b[0;34m)\u001b[0m\u001b[0;34m\u001b[0m\u001b[0m\n\u001b[1;32m   1218\u001b[0m         \u001b[0mself\u001b[0m\u001b[0;34m.\u001b[0m\u001b[0mclasses_\u001b[0m \u001b[0;34m=\u001b[0m \u001b[0mnp\u001b[0m\u001b[0;34m.\u001b[0m\u001b[0munique\u001b[0m\u001b[0;34m(\u001b[0m\u001b[0my\u001b[0m\u001b[0;34m)\u001b[0m\u001b[0;34m\u001b[0m\u001b[0m\n",
      "\u001b[0;32m~/anaconda3/envs/tensorflow_p36/lib/python3.6/site-packages/sklearn/utils/validation.py\u001b[0m in \u001b[0;36mcheck_X_y\u001b[0;34m(X, y, accept_sparse, dtype, order, copy, force_all_finite, ensure_2d, allow_nd, multi_output, ensure_min_samples, ensure_min_features, y_numeric, warn_on_dtype, estimator)\u001b[0m\n\u001b[1;32m    581\u001b[0m         \u001b[0my\u001b[0m \u001b[0;34m=\u001b[0m \u001b[0my\u001b[0m\u001b[0;34m.\u001b[0m\u001b[0mastype\u001b[0m\u001b[0;34m(\u001b[0m\u001b[0mnp\u001b[0m\u001b[0;34m.\u001b[0m\u001b[0mfloat64\u001b[0m\u001b[0;34m)\u001b[0m\u001b[0;34m\u001b[0m\u001b[0m\n\u001b[1;32m    582\u001b[0m \u001b[0;34m\u001b[0m\u001b[0m\n\u001b[0;32m--> 583\u001b[0;31m     \u001b[0mcheck_consistent_length\u001b[0m\u001b[0;34m(\u001b[0m\u001b[0mX\u001b[0m\u001b[0;34m,\u001b[0m \u001b[0my\u001b[0m\u001b[0;34m)\u001b[0m\u001b[0;34m\u001b[0m\u001b[0m\n\u001b[0m\u001b[1;32m    584\u001b[0m \u001b[0;34m\u001b[0m\u001b[0m\n\u001b[1;32m    585\u001b[0m     \u001b[0;32mreturn\u001b[0m \u001b[0mX\u001b[0m\u001b[0;34m,\u001b[0m \u001b[0my\u001b[0m\u001b[0;34m\u001b[0m\u001b[0m\n",
      "\u001b[0;32m~/anaconda3/envs/tensorflow_p36/lib/python3.6/site-packages/sklearn/utils/validation.py\u001b[0m in \u001b[0;36mcheck_consistent_length\u001b[0;34m(*arrays)\u001b[0m\n\u001b[1;32m    202\u001b[0m     \u001b[0;32mif\u001b[0m \u001b[0mlen\u001b[0m\u001b[0;34m(\u001b[0m\u001b[0muniques\u001b[0m\u001b[0;34m)\u001b[0m \u001b[0;34m>\u001b[0m \u001b[0;36m1\u001b[0m\u001b[0;34m:\u001b[0m\u001b[0;34m\u001b[0m\u001b[0m\n\u001b[1;32m    203\u001b[0m         raise ValueError(\"Found input variables with inconsistent numbers of\"\n\u001b[0;32m--> 204\u001b[0;31m                          \" samples: %r\" % [int(l) for l in lengths])\n\u001b[0m\u001b[1;32m    205\u001b[0m \u001b[0;34m\u001b[0m\u001b[0m\n\u001b[1;32m    206\u001b[0m \u001b[0;34m\u001b[0m\u001b[0m\n",
      "\u001b[0;31mValueError\u001b[0m: Found input variables with inconsistent numbers of samples: [7200, 9000]"
     ]
    }
   ],
   "source": [
    "# WARNING: YOU SHOULD ONLY HAVE TO WRITE CODE IN THE PART BELOW THAT SAYS \"TODO\"\n",
    "kf = KFold(n_splits=5, random_state=0, shuffle=True)\n",
    "best_cross_val_score = -np.inf\n",
    "best_PCA_dim = None\n",
    "low_dim_range = range(10, 101, 10)\n",
    "cross_val_scores = []\n",
    "\n",
    "for low_dim in low_dim_range:\n",
    "    # --------------------------------------------------------------------------\n",
    "    # TODO: WRITE YOUR CODE HERE\n",
    "    #\n",
    "    dimension_pca = PCA(n_components=low_dim)\n",
    "    X_train_std = dimension_pca.fit_transform(X_train)\n",
    "    ytrain_std = y_train.T\n",
    "    cross_val_score = -1  # this value is obviously wrong and is for you to fill\n",
    "                          # in with the correct 5-fold cross-validation score;\n",
    "                          # remember to use the same algorithm parameters for\n",
    "                          # logistic regression as in part (a), including\n",
    "                          # setting `random_state=0`  \n",
    "    for k, (train, val) in enumerate(kf.split(X_train, y_train)):\n",
    "        clf = LogisticRegression(random_state=0)\n",
    "        clf.fit(X_train_std[train], y_train)\n",
    "        ypred = clf.predict(X_train_std[val])\n",
    "        yval = y_train[val]\n",
    "        cross_val_scor = clf.score(ypred,yval)\n",
    "        \n",
    "    #\n",
    "    # END OF YOUR CODE\n",
    "    # --------------------------------------------------------------------------\n",
    "    \n",
    "    cross_val_scores.append(cross_val_score)\n",
    "    print('# PCA dim:', low_dim, 'cross val score:', cross_val_score)\n",
    "    if cross_val_score > best_cross_val_score:\n",
    "        best_cross_val_score = cross_val_score\n",
    "        best_PCA_dim = low_dim\n",
    "\n",
    "plt.plot(low_dim_range, cross_val_scores)\n",
    "plt.xlabel('PCA dimensionality')\n",
    "plt.ylabel('Cross validation score (raw accuracy)')\n",
    "\n",
    "print('Best #PCA dim:', best_PCA_dim,\n",
    "      'best cross val score:', best_cross_val_score)"
   ]
  },
  {
   "cell_type": "markdown",
   "metadata": {},
   "source": [
    "### Problem 2(b)-Subpart (ii)\n",
    "\n",
    "Using the best number of PCA dimensions found, train the model using all training data. What is the prediction accuracy (fraction of correct predictions) on the test data (print this accuracy)?"
   ]
  },
  {
   "cell_type": "code",
   "execution_count": null,
   "metadata": {},
   "outputs": [],
   "source": [
    "# ------------------------------------------------------------------------------\n",
    "# TODO: WRITE YOUR CODE HERE\n",
    "#\n",
    "\n",
    "#\n",
    "# END OF YOUR CODE\n",
    "# ------------------------------------------------------------------------------"
   ]
  },
  {
   "cell_type": "markdown",
   "metadata": {},
   "source": [
    "## Problem 2(c): Isomap with multiclass logistic regression"
   ]
  },
  {
   "cell_type": "markdown",
   "metadata": {},
   "source": [
    "We now repeat the analysis for problem 2(b) except using Isomap instead of PCA. Because the analysis using Isomap is extremely slow, we run most of the analysis for you ahead of time. In fact, here's the 5-fold cross-validation plot varying the Isomap dimensionality (sweeping over the same values as in problem 2(b)):\n",
    "\n",
    "![Isomap cross validation](fashion_isomap_cross_val.png)\n",
    "\n",
    "The best Isomap dimensionality found is 100, which achieves a cross validation score of 0.791.\n",
    "\n",
    "Subpart (i) below asks how you would produce the above plot with code (we aren't asking you to actually compute it since it would take too long to run)."
   ]
  },
  {
   "cell_type": "markdown",
   "metadata": {},
   "source": [
    "### Problem 2(c)-Subpart (i)\n",
    "\n",
    "Clearly and concisely state how you would change your answer to problem 2(b) to use scikit-learn's [Isomap](https://scikit-learn.org/stable/modules/generated/sklearn.manifold.Isomap.html#sklearn.manifold.Isomap) class instead of PCA (for Isomap, assume that you use all the default parameters except for `n_components`, which refers to the number of dimensions to reduce to). Your answer should include a code snippet in it, but the code snippet is *not* meant to be run (since it would be very slow to run during the exam!).\n",
    "\n",
    "**Note**: While we did not use scikit-learn's Isomap class in any of the lectures/recitations, the Isomap class is used in an *extremely* similar way to scikit-learn's PCA class. To answer this problem, you do not actually need to use any knowledge of what happens under the hood for Isomap (for example, your answer should not include any code for multidimensional scaling)."
   ]
  },
  {
   "cell_type": "markdown",
   "metadata": {},
   "source": [
    "**Your answer (there should be a code snippet in it)**: Because use PCA would decrease the accuracy in reduce dimensions.\n",
    "\n",
    "```\n",
    "YOUR CODE SNIPPET GOES HERE\n",
    "```"
   ]
  },
  {
   "cell_type": "markdown",
   "metadata": {},
   "source": [
    "### Problem 2(c)-Subpart (ii)\n",
    "\n",
    "Using the full training dataset, we trained Isomap (using 100 dimensions) followed by multiclass logistic regression. The pre-trained Isomap model was ~1.5GB, so instead of giving you that, we have gone ahead and transformed the test feature vectors to 100-dimensional vectors using our pre-trained Isomap model. Using these lower-dimensional representations of the test data, along with the pre-trained multiclass logistic regression model, compute and print out the prediction accuracy (fraction of correct predictions) for the test data."
   ]
  },
  {
   "cell_type": "code",
   "execution_count": null,
   "metadata": {},
   "outputs": [],
   "source": [
    "# DO NOT MODIFY THESE FIRST TWO LINES\n",
    "X_test_isomap = np.loadtxt('fashion_X_test_isomap.txt')\n",
    "log_reg_after_isomap = joblib.load('fashion_mystery.joblib')\n",
    "\n",
    "# ------------------------------------------------------------------------------\n",
    "# TODO: WRITE YOUR CODE HERE\n",
    "#\n",
    "\n",
    "#\n",
    "# END OF YOUR CODE\n",
    "# ------------------------------------------------------------------------------"
   ]
  },
  {
   "cell_type": "markdown",
   "metadata": {},
   "source": [
    "### Problem 2(c)-Subpart (iii)\n",
    "\n",
    "Why wouldn't your answer to subpart (i) work if we had used t-SNE? Very briefly explain.\n",
    "\n",
    "**Hint**: From a quick look at scikit-learn's documentation for both Isomap and t-SNE, you should be able to answer this question."
   ]
  },
  {
   "cell_type": "markdown",
   "metadata": {},
   "source": [
    "**Your answer here**: REPLACE THIS WITH YOUR ANSWER"
   ]
  },
  {
   "cell_type": "markdown",
   "metadata": {},
   "source": [
    "## Problem 2(d): a neural net approach"
   ]
  },
  {
   "cell_type": "markdown",
   "metadata": {},
   "source": [
    "We have run 5-fold cross-validation already using a CNN, where we only varied the size of a Dense layer right before the final multiclass logistic regression layer/classifier. We set the number of neurons to be 10, 20, ..., up to 100, just like with problems 2(b) and 2(c). We got the following plot:\n",
    "\n",
    "![Fashion MNIST CNN 5-fold cross-validation](fashion_cnn_cross_val.png)\n",
    "\n",
    "The best choice for the dimensionality of the space prior to the final logistic regression layer turned out to be 40. We then trained the CNN on all the training data using dimensionality 40 for the dense layer before the logistic regression. We saved the resulting model in `fashion_mystery.hd5`. We first load the model and print out its summary:"
   ]
  },
  {
   "cell_type": "code",
   "execution_count": 38,
   "metadata": {},
   "outputs": [
    {
     "name": "stdout",
     "output_type": "stream",
     "text": [
      "_________________________________________________________________\n",
      "Layer (type)                 Output Shape              Param #   \n",
      "=================================================================\n",
      "conv2d_125 (Conv2D)          (None, 24, 24, 64)        1664      \n",
      "_________________________________________________________________\n",
      "max_pooling2d_125 (MaxPoolin (None, 12, 12, 64)        0         \n",
      "_________________________________________________________________\n",
      "conv2d_126 (Conv2D)          (None, 10, 10, 32)        18464     \n",
      "_________________________________________________________________\n",
      "max_pooling2d_126 (MaxPoolin (None, 5, 5, 32)          0         \n",
      "_________________________________________________________________\n",
      "flatten_63 (Flatten)         (None, 800)               0         \n",
      "_________________________________________________________________\n",
      "dense_125 (Dense)            (None, 40)                32040     \n",
      "_________________________________________________________________\n",
      "dense_126 (Dense)            (None, 10)                410       \n",
      "=================================================================\n",
      "Total params: 52,578\n",
      "Trainable params: 52,578\n",
      "Non-trainable params: 0\n",
      "_________________________________________________________________\n"
     ]
    }
   ],
   "source": [
    "cnn_model = load_model('fashion_mystery.hd5')\n",
    "cnn_model.summary()"
   ]
  },
  {
   "cell_type": "markdown",
   "metadata": {},
   "source": [
    "### Problem 2(d)-Subpart (i)\n",
    "\n",
    "What are the sizes of the convolution filters used in the Conv2D layers? (Also, briefly explain how you determined this.)"
   ]
  },
  {
   "cell_type": "markdown",
   "metadata": {},
   "source": [
    "**Your answer here (no code)**: I think we need to use small size of filter such as 3*3 or 5*5, because out dataset is not big, it can improve the efficiency"
   ]
  },
  {
   "cell_type": "markdown",
   "metadata": {},
   "source": [
    "### Problem 2(d)-Subpart (ii)\n",
    "\n",
    "What is the prediction accuracy (fraction of correct predictions) on the test set using the CNN?\n",
    "\n",
    "*Hint*: To answer this question, you will need to remember to transform your test feature vectors and labels so that they are shaped the right way for the neural net to work with."
   ]
  },
  {
   "cell_type": "code",
   "execution_count": null,
   "metadata": {},
   "outputs": [],
   "source": [
    "# ------------------------------------------------------------------------------\n",
    "# TODO: WRITE YOUR CODE HERE\n",
    "#\n",
    "\n",
    "#\n",
    "# END OF YOUR CODE\n",
    "# ------------------------------------------------------------------------------"
   ]
  },
  {
   "cell_type": "markdown",
   "metadata": {},
   "source": [
    "### Problem 2(d)-Subpart (iii)\n",
    "\n",
    "Compute the confusion matrix for the test data using the CNN. To do this, use scikit-learn's [confusion_matrix](https://scikit-learn.org/stable/modules/generated/sklearn.metrics.confusion_matrix.html#sklearn.metrics.confusion_matrix) function. Note that the rows index the true labels, and the columns index the predicted labels. Also compute a normalized version of this table where each row is divided by the row sum in the original confusion matrix. We have already provided plotting code."
   ]
  },
  {
   "cell_type": "code",
   "execution_count": null,
   "metadata": {},
   "outputs": [],
   "source": [
    "classes = ['T-shirt/top', 'Trouser', 'Pullover', 'Dress', 'Coat',\n",
    "           'Sandal', 'Shirt', 'Sneaker', 'Bag', 'Ankle boot']\n",
    "\n",
    "# ------------------------------------------------------------------------------\n",
    "# TODO: WRITE YOUR CODE HERE\n",
    "#\n",
    "conf_mat = np.zeros((10, 10))  # fill this out correctly\n",
    "normalized_conf_mat = np.zeros((10, 10))  # fill this out correctly\n",
    "#\n",
    "# END OF YOUR CODE\n",
    "# ------------------------------------------------------------------------------\n",
    "\n",
    "plt.figure(figsize=(10, 10))\n",
    "sn.heatmap(conf_mat, annot=True,\n",
    "           xticklabels=classes,\n",
    "           yticklabels=classes)\n",
    "plt.title('Confusion Matrix')\n",
    "\n",
    "plt.figure(figsize=(10, 10))\n",
    "sn.heatmap(normalized_conf_mat, annot=True,\n",
    "           xticklabels=classes,\n",
    "           yticklabels=classes)\n",
    "plt.title('Normalized Confusion Matrix')"
   ]
  },
  {
   "cell_type": "markdown",
   "metadata": {},
   "source": [
    "In the normalized confusion matrix, what do the different numbers represent?"
   ]
  },
  {
   "cell_type": "markdown",
   "metadata": {},
   "source": [
    "**Your answer (no code)**: predict is in the column, actual is in the line, all the right prediction is on the diagonal"
   ]
  },
  {
   "cell_type": "markdown",
   "metadata": {},
   "source": [
    "What can you say about two largest off-diagonal entries (please relate these back to what the labels represent, e.g., trousers, dresses, etc)?"
   ]
  },
  {
   "cell_type": "markdown",
   "metadata": {},
   "source": [
    "**Your answer (no code)**: In general ,they are right prediction"
   ]
  },
  {
   "cell_type": "markdown",
   "metadata": {},
   "source": [
    "What item type do you think is easiest (most accurate) for the CNN to classify?"
   ]
  },
  {
   "cell_type": "markdown",
   "metadata": {},
   "source": [
    "**Your answer (no code)**: improve the Convolution layer"
   ]
  },
  {
   "cell_type": "markdown",
   "metadata": {},
   "source": [
    "## Problem 2(e): Observations about approaches (a) through (d)"
   ]
  },
  {
   "cell_type": "markdown",
   "metadata": {},
   "source": [
    "All four approaches we just examined in this problem involve using a multiclass logistic regression classifier. However, we changed the input given to this classifier."
   ]
  },
  {
   "cell_type": "markdown",
   "metadata": {},
   "source": [
    "What do you notice about the number of dimensions (in the low dimensional space) chosen for PCA and Isomap compared to that of the CNN?"
   ]
  },
  {
   "cell_type": "markdown",
   "metadata": {},
   "source": [
    "**Your answer (no code)**: REPLACE THIS WITH YOUR ANSWER"
   ]
  },
  {
   "cell_type": "markdown",
   "metadata": {},
   "source": [
    "What do you notice about the test set prediction accuracy of the PCA-based and Isomap-based approaches compared to the multiclass logistic regression classifier of part (a)?"
   ]
  },
  {
   "cell_type": "markdown",
   "metadata": {},
   "source": [
    "**Your answer (no code)**: REPLACE THIS WITH YOUR ANSWER"
   ]
  },
  {
   "cell_type": "markdown",
   "metadata": {},
   "source": [
    "Why do you think the test set accuracies turned out the way they did?"
   ]
  },
  {
   "cell_type": "markdown",
   "metadata": {},
   "source": [
    "**Your answer (no code)**: REPLACE THIS WITH YOUR ANSWER"
   ]
  },
  {
   "cell_type": "markdown",
   "metadata": {},
   "source": [
    "# Problem 3: Predicting Diabetes Cases [40 points]"
   ]
  },
  {
   "cell_type": "markdown",
   "metadata": {},
   "source": [
    "The National Institute of Diabetes and Digestive and Kidney Diseases has collected the Pima Indians dataset, which contains data from clinical exams for women age 21 and above of Pima Indian origins. In this problem, we predict whether each woman has diabetes or not based on diagnostic measurements.\n",
    "\n",
    "For each woman, the following features were recorded:\n",
    "- Pregnancies: Number of times pregnant\n",
    "- Glucose: Plasma glucose concentration a 2 hours in an oral glucose tolerance test\n",
    "- Blood Pressure: Diastolic blood pressure (mm Hg)\n",
    "- Skin Thickness: Triceps skin fold thickness (mm)\n",
    "- Insulin: 2-Hour serum insulin (mu U/ml)\n",
    "- BMI: Body mass index (weight in kg/(height in m)^2)\n",
    "- Diabetes Pedigree Function: Diabetes pedigree function\n",
    "- Age: Age (years)\n",
    "\n",
    "Per woman, the label is binary (1=diabetic, 0=not diabetic)."
   ]
  },
  {
   "cell_type": "markdown",
   "metadata": {},
   "source": [
    "We begin by loading in the data:"
   ]
  },
  {
   "cell_type": "code",
   "execution_count": 27,
   "metadata": {},
   "outputs": [
    {
     "name": "stdout",
     "output_type": "stream",
     "text": [
      "(576, 8) (576,)\n",
      "(192, 8) (192,)\n"
     ]
    }
   ],
   "source": [
    "diabetes_X_train = np.loadtxt('diabetes_X_train.txt')\n",
    "diabetes_y_train = np.loadtxt('diabetes_y_train.txt')\n",
    "diabetes_X_test = np.loadtxt('diabetes_X_test.txt')\n",
    "diabetes_y_test = np.loadtxt('diabetes_y_test.txt')\n",
    "diabetes_features = ['Pregnancies',\n",
    "                     'Glucose',\n",
    "                     'Blood Pressure',\n",
    "                     'Skin Thickness',\n",
    "                     'Insulin',\n",
    "                     'BMI',\n",
    "                     'Diabetes Pedigree Function',\n",
    "                     'Age']\n",
    "print(diabetes_X_train.shape, diabetes_y_train.shape)\n",
    "print(diabetes_X_test.shape, diabetes_y_test.shape)"
   ]
  },
  {
   "cell_type": "markdown",
   "metadata": {},
   "source": [
    "## Problem 3(a)\n",
    "\n",
    "Explore the training data by drawing a histogram for each feature."
   ]
  },
  {
   "cell_type": "code",
   "execution_count": 28,
   "metadata": {},
   "outputs": [
    {
     "data": {
      "image/png": "[encoded data removed]",
      "text/plain": [
       "<Figure size 432x288 with 1 Axes>"
      ]
     },
     "metadata": {},
     "output_type": "display_data"
    },
    {
     "data": {
      "image/png": "[encoded data removed]",
      "text/plain": [
       "<Figure size 432x288 with 1 Axes>"
      ]
     },
     "metadata": {},
     "output_type": "display_data"
    },
    {
     "data": {
      "image/png": "[encoded data removed]",
      "text/plain": [
       "<Figure size 432x288 with 1 Axes>"
      ]
     },
     "metadata": {},
     "output_type": "display_data"
    },
    {
     "data": {
      "image/png": "[encoded data removed]",
      "text/plain": [
       "<Figure size 432x288 with 1 Axes>"
      ]
     },
     "metadata": {},
     "output_type": "display_data"
    }
   ],
   "source": [
    "# ------------------------------------------------------------------------------\n",
    "# TODO: WRITE YOUR CODE HERE\n",
    "#\n",
    "plt.hist(diabetes_X_train, label=diabetes_features,bins='auto')\n",
    "plt.legend(loc=\"lower right\")\n",
    "plt.show()\n",
    "\n",
    "plt.hist(diabetes_y_train, label=diabetes_features, bins='auto')\n",
    "plt.legend(loc=\"lower right\")\n",
    "plt.show()\n",
    "\n",
    "plt.hist(diabetes_X_test,label=diabetes_features, bins='auto')\n",
    "plt.legend(loc=\"lower right\")\n",
    "plt.show()\n",
    "\n",
    "plt.hist(diabetes_y_test, label=diabetes_features,bins='auto')\n",
    "plt.legend(loc=\"lower right\")\n",
    "plt.show()\n",
    "\n",
    "#\n",
    "# END OF YOUR CODE\n",
    "# ------------------------------------------------------------------------------"
   ]
  },
  {
   "cell_type": "markdown",
   "metadata": {},
   "source": [
    "Clearly explain why the features should be standardized."
   ]
  },
  {
   "cell_type": "markdown",
   "metadata": {},
   "source": [
    "**Your answer (no code)**: the features is bias, in real world, if data is big, it should follow normal distribution"
   ]
  },
  {
   "cell_type": "markdown",
   "metadata": {},
   "source": [
    "Suppose that we are standardizing the data (by subtracting off each feature's mean and dividing by its standard deviation) and also doing cross-validation. Explain why standardization should *not* be applied to the full training dataset first before running cross-validation. When should standardization be run?"
   ]
  },
  {
   "cell_type": "markdown",
   "metadata": {},
   "source": [
    "**Your answer (no code)**: Remove one or more data locations, and then use data from other locations to predict the data associated with them. In this way, you can compare the predicted values with the measured values and get useful information. If the prediction error is unbiased, the average prediction error should be close to 0. However, this value depends on the size of the data; to standardize it, the standardized prediction error can be obtained by dividing the prediction error by its prediction standard error."
   ]
  },
  {
   "cell_type": "markdown",
   "metadata": {},
   "source": [
    "## Problem 3(b): Support Vector Classification\n",
    "\n",
    "We now train a linear SVM (scikit-learn's `LinearSVC`) to classify whether a Pima Indian woman has diabetes or not. We use 5-fold cross-validation, making sure to account for the feature standardization in part (a).\n",
    "\n",
    "### Problem 3(b)-Subpart (i)\n",
    "\n",
    "Suppose that we sweep over hyperparameter `C` for SVM, using exactly 10 different possible values for `C` with 5-fold cross-validation. How many SVM classifiers will get trained during cross-validation, and (roughly) how many training data get used for each fold?"
   ]
  },
  {
   "cell_type": "markdown",
   "metadata": {},
   "source": [
    "**Your answer (no code)**: REPLACE THIS WITH YOUR ANSWER"
   ]
  },
  {
   "cell_type": "markdown",
   "metadata": {},
   "source": [
    "### Problem 3(b)-Subpart (ii)\n",
    "\n",
    "We shall use 5-fold cross-validation but with a twist! For each fold, compute *two* different scores: the true positive rate and the false positive rate. In other words, after running 5-fold cross-validation, for each of the five hyperparameter choices for `C`, we will have two different numbers: average true positive rate across folds for that hyperparameter choice, and average false positive rate across folds for that hyperparameter choice.\n",
    "\n",
    "Importantly, please use scikit-learn's `LinearSVC` classifier specifying only `C` and `random_state=95865`.\n",
    "\n",
    "**Note**: For this variant of cross-validation, we are not yet selecting a best score yet (especially since there are two scores). This is why in the code provided below, there is no need to keep track of the best score seen so far, etc. However, we make sure to store all the cross-validation scores computed. Note that your code should *not* be using `decision_function`."
   ]
  },
  {
   "cell_type": "code",
   "execution_count": 29,
   "metadata": {},
   "outputs": [
    {
     "name": "stdout",
     "output_type": "stream",
     "text": [
      "C:   0.0001 TPR: -1.0000 FPR: -1.0000\n",
      "C:   0.0004 TPR: -1.0000 FPR: -1.0000\n",
      "C:   0.0013 TPR: -1.0000 FPR: -1.0000\n",
      "C:   0.0046 TPR: -1.0000 FPR: -1.0000\n",
      "C:   0.0167 TPR: -1.0000 FPR: -1.0000\n",
      "C:   0.0599 TPR: -1.0000 FPR: -1.0000\n",
      "C:   0.2154 TPR: -1.0000 FPR: -1.0000\n",
      "C:   0.7743 TPR: -1.0000 FPR: -1.0000\n",
      "C:   2.7826 TPR: -1.0000 FPR: -1.0000\n",
      "C:  10.0000 TPR: -1.0000 FPR: -1.0000\n"
     ]
    }
   ],
   "source": [
    "# WARNING: YOU SHOULD ONLY HAVE TO WRITE CODE IN THE PART BELOW THAT SAYS \"TODO\"\n",
    "kf = KFold(n_splits=5, random_state=0, shuffle=True)\n",
    "C_range = np.logspace(-4, 1, 10)  # 10 different choices\n",
    "svm_cross_val_true_positive_rates = []\n",
    "svm_cross_val_false_positive_rates = []\n",
    "\n",
    "for C in C_range:\n",
    "    # --------------------------------------------------------------------------\n",
    "    # TODO: WRITE YOUR CODE HERE\n",
    "    #\n",
    "    cross_val_true_pos_rate = -1  # this value is obviously wrong and is for\n",
    "                                  # you to fill in with the correct 5-fold\n",
    "                                  # cross-validation score for true positive\n",
    "                                  # rate\n",
    "    cross_val_false_pos_rate = -1  # this value is obviously wrong and is for\n",
    "                                   # you to fill in with the correct 5-fold\n",
    "                                   # cross-validation score for false positive\n",
    "                                   # rate\n",
    "    for k, (train, val) in enumerate(kf.split(diabetes_X_train, diabetes_y_train)):\n",
    "        clf = LinearSVC(random_state=95865)\n",
    "        probas_ =clf.fit(diabetes_X_train[train], diabetes_y_train[train])\n",
    "        ypred = clf.predict(diabetes_X_train[val])\n",
    "        yval = diabetes_y_train[val]\n",
    "    #\n",
    "    # END OF YOUR CODE\n",
    "    # --------------------------------------------------------------------------\n",
    "    \n",
    "    print('C: %8.4f' % C,\n",
    "          'TPR: %6.4f' % cross_val_true_pos_rate,\n",
    "          'FPR: %6.4f' % cross_val_false_pos_rate)\n",
    "    svm_cross_val_true_positive_rates.append(cross_val_true_pos_rate)\n",
    "    svm_cross_val_false_positive_rates.append(cross_val_false_pos_rate)"
   ]
  },
  {
   "cell_type": "markdown",
   "metadata": {},
   "source": [
    "### Problem 3(b)-Subpart (iii)\n",
    "\n",
    "Plot the true positive rate vs false positive rate. (The x-axis should be FPR and the y-axis should be TPR.)"
   ]
  },
  {
   "cell_type": "code",
   "execution_count": 36,
   "metadata": {},
   "outputs": [
    {
     "ename": "ValueError",
     "evalue": "Expected array-like (array or non-string sequence), got True",
     "output_type": "error",
     "traceback": [
      "\u001b[0;31m---------------------------------------------------------------------------\u001b[0m",
      "\u001b[0;31mValueError\u001b[0m                                Traceback (most recent call last)",
      "\u001b[0;32m<ipython-input-36-6e82b241e506>\u001b[0m in \u001b[0;36m<module>\u001b[0;34m()\u001b[0m\n\u001b[1;32m      3\u001b[0m \u001b[0;31m#\u001b[0m\u001b[0;34m\u001b[0m\u001b[0;34m\u001b[0m\u001b[0m\n\u001b[1;32m      4\u001b[0m \u001b[0;34m\u001b[0m\u001b[0m\n\u001b[0;32m----> 5\u001b[0;31m \u001b[0mfpr\u001b[0m\u001b[0;34m,\u001b[0m \u001b[0mtpr\u001b[0m\u001b[0;34m,\u001b[0m \u001b[0mthresholds\u001b[0m \u001b[0;34m=\u001b[0m \u001b[0mroc_curve\u001b[0m\u001b[0;34m(\u001b[0m\u001b[0;32mTrue\u001b[0m\u001b[0;34m,\u001b[0m \u001b[0;36m1\u001b[0m\u001b[0;34m,\u001b[0m \u001b[0mpos_label\u001b[0m\u001b[0;34m=\u001b[0m\u001b[0;36m1\u001b[0m\u001b[0;34m)\u001b[0m\u001b[0;34m\u001b[0m\u001b[0m\n\u001b[0m\u001b[1;32m      6\u001b[0m \u001b[0mauc\u001b[0m \u001b[0;34m=\u001b[0m \u001b[0mnp\u001b[0m\u001b[0;34m.\u001b[0m\u001b[0mtrapz\u001b[0m\u001b[0;34m(\u001b[0m\u001b[0mcross_val_true_pos_rate\u001b[0m\u001b[0;34m,\u001b[0m \u001b[0mcross_val_false_pos_rate\u001b[0m\u001b[0;34m)\u001b[0m\u001b[0;34m\u001b[0m\u001b[0m\n\u001b[1;32m      7\u001b[0m \u001b[0mplt\u001b[0m\u001b[0;34m.\u001b[0m\u001b[0mplot\u001b[0m\u001b[0;34m(\u001b[0m\u001b[0mcross_val_true_pos_rate\u001b[0m\u001b[0;34m,\u001b[0m \u001b[0mcross_val_false_pos_rate\u001b[0m\u001b[0;34m,\u001b[0m \u001b[0mlinestyle\u001b[0m\u001b[0;34m=\u001b[0m\u001b[0;34m'-'\u001b[0m\u001b[0;34m,\u001b[0m \u001b[0malpha\u001b[0m\u001b[0;34m=\u001b[0m\u001b[0;36m0.5\u001b[0m\u001b[0;34m,\u001b[0m \u001b[0mcolor\u001b[0m\u001b[0;34m=\u001b[0m\u001b[0;34m'C0'\u001b[0m\u001b[0;34m,\u001b[0m\u001b[0mlabel\u001b[0m\u001b[0;34m=\u001b[0m\u001b[0;34m'SVM'\u001b[0m \u001b[0;34m%\u001b[0m \u001b[0mauc\u001b[0m\u001b[0;34m)\u001b[0m\u001b[0;34m\u001b[0m\u001b[0m\n",
      "\u001b[0;32m~/anaconda3/envs/tensorflow_p36/lib/python3.6/site-packages/sklearn/metrics/ranking.py\u001b[0m in \u001b[0;36mroc_curve\u001b[0;34m(y_true, y_score, pos_label, sample_weight, drop_intermediate)\u001b[0m\n\u001b[1;32m    532\u001b[0m     \"\"\"\n\u001b[1;32m    533\u001b[0m     fps, tps, thresholds = _binary_clf_curve(\n\u001b[0;32m--> 534\u001b[0;31m         y_true, y_score, pos_label=pos_label, sample_weight=sample_weight)\n\u001b[0m\u001b[1;32m    535\u001b[0m \u001b[0;34m\u001b[0m\u001b[0m\n\u001b[1;32m    536\u001b[0m     \u001b[0;31m# Attempt to drop thresholds corresponding to points in between and\u001b[0m\u001b[0;34m\u001b[0m\u001b[0;34m\u001b[0m\u001b[0m\n",
      "\u001b[0;32m~/anaconda3/envs/tensorflow_p36/lib/python3.6/site-packages/sklearn/metrics/ranking.py\u001b[0m in \u001b[0;36m_binary_clf_curve\u001b[0;34m(y_true, y_score, pos_label, sample_weight)\u001b[0m\n\u001b[1;32m    313\u001b[0m     \"\"\"\n\u001b[1;32m    314\u001b[0m     \u001b[0;31m# Check to make sure y_true is valid\u001b[0m\u001b[0;34m\u001b[0m\u001b[0;34m\u001b[0m\u001b[0m\n\u001b[0;32m--> 315\u001b[0;31m     \u001b[0my_type\u001b[0m \u001b[0;34m=\u001b[0m \u001b[0mtype_of_target\u001b[0m\u001b[0;34m(\u001b[0m\u001b[0my_true\u001b[0m\u001b[0;34m)\u001b[0m\u001b[0;34m\u001b[0m\u001b[0m\n\u001b[0m\u001b[1;32m    316\u001b[0m     if not (y_type == \"binary\" or\n\u001b[1;32m    317\u001b[0m             (y_type == \"multiclass\" and pos_label is not None)):\n",
      "\u001b[0;32m~/anaconda3/envs/tensorflow_p36/lib/python3.6/site-packages/sklearn/utils/multiclass.py\u001b[0m in \u001b[0;36mtype_of_target\u001b[0;34m(y)\u001b[0m\n\u001b[1;32m    242\u001b[0m     \u001b[0;32mif\u001b[0m \u001b[0;32mnot\u001b[0m \u001b[0mvalid\u001b[0m\u001b[0;34m:\u001b[0m\u001b[0;34m\u001b[0m\u001b[0m\n\u001b[1;32m    243\u001b[0m         raise ValueError('Expected array-like (array or non-string sequence), '\n\u001b[0;32m--> 244\u001b[0;31m                          'got %r' % y)\n\u001b[0m\u001b[1;32m    245\u001b[0m \u001b[0;34m\u001b[0m\u001b[0m\n\u001b[1;32m    246\u001b[0m     \u001b[0msparseseries\u001b[0m \u001b[0;34m=\u001b[0m \u001b[0;34m(\u001b[0m\u001b[0my\u001b[0m\u001b[0;34m.\u001b[0m\u001b[0m__class__\u001b[0m\u001b[0;34m.\u001b[0m\u001b[0m__name__\u001b[0m \u001b[0;34m==\u001b[0m \u001b[0;34m'SparseSeries'\u001b[0m\u001b[0;34m)\u001b[0m\u001b[0;34m\u001b[0m\u001b[0m\n",
      "\u001b[0;31mValueError\u001b[0m: Expected array-like (array or non-string sequence), got True"
     ]
    }
   ],
   "source": [
    "# ------------------------------------------------------------------------------\n",
    "# TODO: WRITE YOUR CODE HERE\n",
    "#\n",
    "\n",
    "fpr, tpr, thresholds = roc_curve(True, 1, pos_label=1)\n",
    "auc = np.trapz(cross_val_true_pos_rate, cross_val_false_pos_rate)\n",
    "plt.plot(cross_val_true_pos_rate, cross_val_false_pos_rate, linestyle='-', alpha=0.5, color='C0',label='SVM' % auc)\n",
    "\n",
    "\n",
    "plt.xlabel(\"FPR\")\n",
    "plt.ylabel(\"TPR\")\n",
    "plt.legend(loc=\"lower right\")\n",
    "plt.grid()\n",
    "plt.show()\n",
    "#\n",
    "# END OF YOUR CODE\n",
    "# ------------------------------------------------------------------------------"
   ]
  },
  {
   "cell_type": "markdown",
   "metadata": {},
   "source": [
    "### Problem 3(b)-Subpart (iv)"
   ]
  },
  {
   "cell_type": "markdown",
   "metadata": {},
   "source": [
    "Using the plot above, suppose that for our clinical application, we can have at most a false positive rate of 12%. Under this constraint, what is the largest true positive rate that we could approximately be able to achieve according to our cross validation results? Which value of hyperparameter `C` (among the ones we tried in cross validation) does this roughly correspond to?"
   ]
  },
  {
   "cell_type": "markdown",
   "metadata": {},
   "source": [
    "**Your answer**: REPLACE THIS WITH YOUR ANSWER"
   ]
  },
  {
   "cell_type": "markdown",
   "metadata": {},
   "source": [
    "**Important observation**: Your answer to the above question should make it clear that using training data and an ROC curve, we can actually pick a hyperparameter based on some application-specific constraint. The hyperparameter chosen can then be used for test data!"
   ]
  },
  {
   "cell_type": "markdown",
   "metadata": {},
   "source": [
    "## Problem 3(c): Random Forest Classification"
   ]
  },
  {
   "cell_type": "markdown",
   "metadata": {},
   "source": [
    "Repeat problem 3(b) except now using a random forest classifier, sweeping over 4 different `n_estimators` values (50, 100, 150, 200) and 6 `max_depth` values (2, 3, 4, 5, 6, 7), i.e., sweep over a total of 4x6=24 hyperparameter settings. For the `RandomForestClassifier`, aside from `n_estimators` and `max_depth`, only specify one additional setting `random_state=95865`. When you generate your cross-validation-based ROC plot, use a scatter plot (`plt.scatter`) instead of a line plot."
   ]
  },
  {
   "cell_type": "code",
   "execution_count": 37,
   "metadata": {},
   "outputs": [
    {
     "ename": "AttributeError",
     "evalue": "'numpy.ndarray' object has no attribute 'lower'",
     "output_type": "error",
     "traceback": [
      "\u001b[0;31m---------------------------------------------------------------------------\u001b[0m",
      "\u001b[0;31mAttributeError\u001b[0m                            Traceback (most recent call last)",
      "\u001b[0;32m<ipython-input-37-9a694712459d>\u001b[0m in \u001b[0;36m<module>\u001b[0;34m()\u001b[0m\n\u001b[1;32m      5\u001b[0m \u001b[0mvectorizer\u001b[0m \u001b[0;34m=\u001b[0m \u001b[0mCountVectorizer\u001b[0m\u001b[0;34m(\u001b[0m\u001b[0mmin_df\u001b[0m\u001b[0;34m=\u001b[0m\u001b[0;36m50\u001b[0m\u001b[0;34m,\u001b[0m \u001b[0mmax_df\u001b[0m\u001b[0;34m=\u001b[0m\u001b[0;36m0.8\u001b[0m\u001b[0;34m,\u001b[0m\u001b[0mmax_features\u001b[0m\u001b[0;34m=\u001b[0m\u001b[0;36m1000\u001b[0m\u001b[0;34m,\u001b[0m\u001b[0mstop_words\u001b[0m\u001b[0;34m=\u001b[0m\u001b[0;34m\"english\"\u001b[0m\u001b[0;34m)\u001b[0m\u001b[0;34m\u001b[0m\u001b[0m\n\u001b[1;32m      6\u001b[0m \u001b[0;31m#X_train=pd.Series(diabetes_X_train.reshape(4608, 1))\u001b[0m\u001b[0;34m\u001b[0m\u001b[0;34m\u001b[0m\u001b[0m\n\u001b[0;32m----> 7\u001b[0;31m \u001b[0mX\u001b[0m \u001b[0;34m=\u001b[0m \u001b[0mvectorizer\u001b[0m\u001b[0;34m.\u001b[0m\u001b[0mfit_transform\u001b[0m\u001b[0;34m(\u001b[0m\u001b[0mdiabetes_X_train\u001b[0m\u001b[0;34m)\u001b[0m\u001b[0;34m\u001b[0m\u001b[0m\n\u001b[0m\u001b[1;32m      8\u001b[0m \u001b[0mvoca\u001b[0m\u001b[0;34m=\u001b[0m\u001b[0mvectorizer\u001b[0m\u001b[0;34m.\u001b[0m\u001b[0mget_feature_names\u001b[0m\u001b[0;34m(\u001b[0m\u001b[0;34m)\u001b[0m\u001b[0;34m\u001b[0m\u001b[0m\n\u001b[1;32m      9\u001b[0m \u001b[0;31m#print(voca)\u001b[0m\u001b[0;34m\u001b[0m\u001b[0;34m\u001b[0m\u001b[0m\n",
      "\u001b[0;32m~/anaconda3/envs/tensorflow_p36/lib/python3.6/site-packages/sklearn/feature_extraction/text.py\u001b[0m in \u001b[0;36mfit_transform\u001b[0;34m(self, raw_documents, y)\u001b[0m\n\u001b[1;32m    867\u001b[0m \u001b[0;34m\u001b[0m\u001b[0m\n\u001b[1;32m    868\u001b[0m         vocabulary, X = self._count_vocab(raw_documents,\n\u001b[0;32m--> 869\u001b[0;31m                                           self.fixed_vocabulary_)\n\u001b[0m\u001b[1;32m    870\u001b[0m \u001b[0;34m\u001b[0m\u001b[0m\n\u001b[1;32m    871\u001b[0m         \u001b[0;32mif\u001b[0m \u001b[0mself\u001b[0m\u001b[0;34m.\u001b[0m\u001b[0mbinary\u001b[0m\u001b[0;34m:\u001b[0m\u001b[0;34m\u001b[0m\u001b[0m\n",
      "\u001b[0;32m~/anaconda3/envs/tensorflow_p36/lib/python3.6/site-packages/sklearn/feature_extraction/text.py\u001b[0m in \u001b[0;36m_count_vocab\u001b[0;34m(self, raw_documents, fixed_vocab)\u001b[0m\n\u001b[1;32m    790\u001b[0m         \u001b[0;32mfor\u001b[0m \u001b[0mdoc\u001b[0m \u001b[0;32min\u001b[0m \u001b[0mraw_documents\u001b[0m\u001b[0;34m:\u001b[0m\u001b[0;34m\u001b[0m\u001b[0m\n\u001b[1;32m    791\u001b[0m             \u001b[0mfeature_counter\u001b[0m \u001b[0;34m=\u001b[0m \u001b[0;34m{\u001b[0m\u001b[0;34m}\u001b[0m\u001b[0;34m\u001b[0m\u001b[0m\n\u001b[0;32m--> 792\u001b[0;31m             \u001b[0;32mfor\u001b[0m \u001b[0mfeature\u001b[0m \u001b[0;32min\u001b[0m \u001b[0manalyze\u001b[0m\u001b[0;34m(\u001b[0m\u001b[0mdoc\u001b[0m\u001b[0;34m)\u001b[0m\u001b[0;34m:\u001b[0m\u001b[0;34m\u001b[0m\u001b[0m\n\u001b[0m\u001b[1;32m    793\u001b[0m                 \u001b[0;32mtry\u001b[0m\u001b[0;34m:\u001b[0m\u001b[0;34m\u001b[0m\u001b[0m\n\u001b[1;32m    794\u001b[0m                     \u001b[0mfeature_idx\u001b[0m \u001b[0;34m=\u001b[0m \u001b[0mvocabulary\u001b[0m\u001b[0;34m[\u001b[0m\u001b[0mfeature\u001b[0m\u001b[0;34m]\u001b[0m\u001b[0;34m\u001b[0m\u001b[0m\n",
      "\u001b[0;32m~/anaconda3/envs/tensorflow_p36/lib/python3.6/site-packages/sklearn/feature_extraction/text.py\u001b[0m in \u001b[0;36m<lambda>\u001b[0;34m(doc)\u001b[0m\n\u001b[1;32m    264\u001b[0m \u001b[0;34m\u001b[0m\u001b[0m\n\u001b[1;32m    265\u001b[0m             return lambda doc: self._word_ngrams(\n\u001b[0;32m--> 266\u001b[0;31m                 tokenize(preprocess(self.decode(doc))), stop_words)\n\u001b[0m\u001b[1;32m    267\u001b[0m \u001b[0;34m\u001b[0m\u001b[0m\n\u001b[1;32m    268\u001b[0m         \u001b[0;32melse\u001b[0m\u001b[0;34m:\u001b[0m\u001b[0;34m\u001b[0m\u001b[0m\n",
      "\u001b[0;32m~/anaconda3/envs/tensorflow_p36/lib/python3.6/site-packages/sklearn/feature_extraction/text.py\u001b[0m in \u001b[0;36m<lambda>\u001b[0;34m(x)\u001b[0m\n\u001b[1;32m    230\u001b[0m \u001b[0;34m\u001b[0m\u001b[0m\n\u001b[1;32m    231\u001b[0m         \u001b[0;32mif\u001b[0m \u001b[0mself\u001b[0m\u001b[0;34m.\u001b[0m\u001b[0mlowercase\u001b[0m\u001b[0;34m:\u001b[0m\u001b[0;34m\u001b[0m\u001b[0m\n\u001b[0;32m--> 232\u001b[0;31m             \u001b[0;32mreturn\u001b[0m \u001b[0;32mlambda\u001b[0m \u001b[0mx\u001b[0m\u001b[0;34m:\u001b[0m \u001b[0mstrip_accents\u001b[0m\u001b[0;34m(\u001b[0m\u001b[0mx\u001b[0m\u001b[0;34m.\u001b[0m\u001b[0mlower\u001b[0m\u001b[0;34m(\u001b[0m\u001b[0;34m)\u001b[0m\u001b[0;34m)\u001b[0m\u001b[0;34m\u001b[0m\u001b[0m\n\u001b[0m\u001b[1;32m    233\u001b[0m         \u001b[0;32melse\u001b[0m\u001b[0;34m:\u001b[0m\u001b[0;34m\u001b[0m\u001b[0m\n\u001b[1;32m    234\u001b[0m             \u001b[0;32mreturn\u001b[0m \u001b[0mstrip_accents\u001b[0m\u001b[0;34m\u001b[0m\u001b[0m\n",
      "\u001b[0;31mAttributeError\u001b[0m: 'numpy.ndarray' object has no attribute 'lower'"
     ]
    }
   ],
   "source": [
    "from sklearn.ensemble import RandomForestClassifier\n",
    "from sklearn.feature_extraction.text import CountVectorizer\n",
    "import pandas as pd\n",
    "\n",
    "vectorizer = CountVectorizer(min_df=50, max_df=0.8,max_features=1000,stop_words=\"english\")\n",
    "#X_train=pd.Series(diabetes_X_train.reshape(4608, 1))\n",
    "X = vectorizer.fit_transform(diabetes_X_train)\n",
    "voca=vectorizer.get_feature_names()\n",
    "#print(voca)\n",
    "leng=[]\n",
    "for i in voca:\n",
    "    leng.append(i)\n",
    "print(len(leng))\n",
    "\n",
    "flattened_X = X.reshape(len(leng), -1).astype(np.float32).todense()\n",
    "num_X = len(flattened_X)\n",
    "indices = range(num_X )\n",
    "\n",
    "\n",
    "kf = KFold(n_splits=5, random_state=0, shuffle=True)\n",
    "num_trees_range = [50, 100, 150, 200]\n",
    "max_depth_range = [2, 3, 4, 5, 6, 7]\n",
    "hyperparam_range = [(num_trees, max_depth)\n",
    "                    for num_trees in num_trees_range\n",
    "                    for max_depth in max_depth_range]\n",
    "rf_cross_val_true_positive_rates = []\n",
    "rf_cross_val_false_positive_rates = []\n",
    "\n",
    "for num_trees, max_depth in hyperparam_range:\n",
    "    # --------------------------------------------------------------------------\n",
    "    # TODO: WRITE YOUR CODE HERE\n",
    "    #\n",
    "    cross_val_true_pos_rate = -1  # this value is obviously wrong and is for\n",
    "                                  # you to fill in with the correct 5-fold\n",
    "                                  # cross-validation score for true positive\n",
    "                                  # rate\n",
    "    cross_val_false_pos_rate = -1  # this value is obviously wrong and is for\n",
    "                                   # you to fill in with the correct 5-fold\n",
    "                                   # cross-validation score for false positive\n",
    "      \n",
    "    # rate\n",
    "    for train_indices, val_indices in kf.split(indices):\n",
    "        rf_classifier = RandomForestClassifier(n_estimators=num_trees, max_depth=max_depth, random_state=95865)  # n_estimators is the number of trees\n",
    "        rf_classifier.fit(flattened_X[train_indices],\n",
    "                       Y_train[train_indices])\n",
    "        rf_predicted_train_labels = rf_classifier.predict(flattened_X[val_indices])\n",
    "        \n",
    "    #\n",
    "    # END OF YOUR CODE\n",
    "    # --------------------------------------------------------------------------\n",
    "    \n",
    "    print('num_trees: %d' % num_trees,\n",
    "          'max_depth: %d' % max_depth,\n",
    "          'TPR: %6.4f' % cross_val_true_pos_rate,\n",
    "          'FPR: %6.4f' % cross_val_false_pos_rate)\n",
    "    rf_cross_val_true_positive_rates.append(cross_val_true_pos_rate)\n",
    "    rf_cross_val_false_positive_rates.append(cross_val_false_pos_rate)\n",
    "\n",
    "    \n",
    "# ------------------------------------------------------------------------------\n",
    "# TODO: WRITE YOUR PLOTTING CODE HERE\n",
    "#\n",
    "\n",
    "#\n",
    "# END OF YOUR CODE\n",
    "# ------------------------------------------------------------------------------"
   ]
  },
  {
   "cell_type": "markdown",
   "metadata": {},
   "source": [
    "Under the same constraint as in part (b), namely that we want a false positive rate of no greater than 12%, what is the best achievable true positive rate for random forests at least according to the cross-validation results? What hyperparameter setting achieves this? Is this TPR higher than what was possible with a linear SVM classifier?"
   ]
  },
  {
   "cell_type": "markdown",
   "metadata": {},
   "source": [
    "**Your answer (no code)**: REPLACE THIS WITH YOUR ANSWER"
   ]
  },
  {
   "cell_type": "markdown",
   "metadata": {},
   "source": [
    "## Problem 3(d): How good is cross-validation in this case anyways?"
   ]
  },
  {
   "cell_type": "markdown",
   "metadata": {},
   "source": [
    "For this part, we focus on using the linear SVM classifier, and we examine how good cross-validation from part (b) is in identifying which hyperparameters are good.\n",
    "\n",
    "### Problem 3(d)-Subpart (i)\n",
    "\n",
    "We start with a basic task: using the best hyperparameter `C` found in part (b), train a linear SVM using the full training dataset. Using this classifier, compute and print out its test set true positive rate and false positive rate."
   ]
  },
  {
   "cell_type": "code",
   "execution_count": null,
   "metadata": {},
   "outputs": [],
   "source": [
    "# ------------------------------------------------------------------------------\n",
    "# TODO: WRITE YOUR CODE HERE\n",
    "#\n",
    "\n",
    "#\n",
    "# END OF YOUR CODE\n",
    "# ------------------------------------------------------------------------------"
   ]
  },
  {
   "cell_type": "markdown",
   "metadata": {},
   "source": [
    "### Problem 3(d)-Subpart (ii)\n",
    "\n",
    "Your code from subpart (i) uses the best choice of hyperparameter `C` from part (b) and computes a test set TPR and a test set FPR. However, you can actually repeat this calculation for each `C` within the range of values from part (b). By doing so, we again get a sequence of TPR's and FPR's from which we can plot an ROC curve! Put another way, instead of plotting an ROC curve using cross-validation, we can plot an ROC curve using simple data splitting, where the training dataset is the actual full training dataset, and the validation data is the actual test set. Plot the resulting ROC curve in this case, and overlay your training cross-validation ROC from earlier.\n",
    "\n",
    "**Disclaimer**: At this point, we are definitely looking at the test data, so this analysis is meant for better understanding what we did right or wrong during the training phase in which we didn't peek at the test data."
   ]
  },
  {
   "cell_type": "code",
   "execution_count": null,
   "metadata": {},
   "outputs": [],
   "source": [
    "# DO NOT MODIFY THE NEXT TWO LINES; THESE ARE FOR YOU TO FILL OUT AND PLOT\n",
    "svm_test_true_positive_rates = []\n",
    "svm_test_false_positive_rates = []\n",
    "\n",
    "# ------------------------------------------------------------------------------\n",
    "# TODO: WRITE YOUR CODE HERE\n",
    "#\n",
    "\n",
    "#\n",
    "# END OF YOUR CODE\n",
    "# ------------------------------------------------------------------------------"
   ]
  },
  {
   "cell_type": "markdown",
   "metadata": {},
   "source": [
    "Did your SVM cross-validation ROC curve from part (b) accurately estimate the true ROC curve?"
   ]
  },
  {
   "cell_type": "markdown",
   "metadata": {},
   "source": [
    "**Your answer**: NO"
   ]
  },
  {
   "cell_type": "code",
   "execution_count": null,
   "metadata": {},
   "outputs": [],
   "source": []
  }
 ],
 "metadata": {
  "kernelspec": {
   "display_name": "Python 3",
   "language": "python",
   "name": "python3"
  },
  "language_info": {
   "codemirror_mode": {
    "name": "ipython",
    "version": 3
   },
   "file_extension": ".py",
   "mimetype": "text/x-python",
   "name": "python",
   "nbconvert_exporter": "python",
   "pygments_lexer": "ipython3",
   "version": "3.7.0"
  }
 },
 "nbformat": 4,
 "nbformat_minor": 2
}
