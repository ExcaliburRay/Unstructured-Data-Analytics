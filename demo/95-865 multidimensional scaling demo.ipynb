{
 "cells": [
  {
   "cell_type": "code",
   "execution_count": null,
   "metadata": {},
   "outputs": [],
   "source": [
    "# multidimensional scaling demo\n",
    "\n",
    "import numpy as np\n",
    "\n",
    "point_names = ['A', 'B', 'C', 'D', 'E']\n",
    "distances = np.array([[0, 5, 8, 13, 16],\n",
    "                      [5, 0, 5, 10, 13],\n",
    "                      [8, 5, 0, 5, 8],\n",
    "                      [13, 10, 5, 0, 5],\n",
    "                      [16, 13, 8, 5, 0]])\n",
    "\n",
    "from sklearn import manifold\n",
    "# remove random_state=0 and re-running gives you different 1D representations of A, B, C, D, E\n",
    "mds = manifold.MDS(n_components=1, dissimilarity='precomputed', random_state=0)\n",
    "low_dimensional_points = mds.fit_transform(distances)\n",
    "print(low_dimensional_points)\n",
    "\n",
    "%matplotlib inline\n",
    "import matplotlib.pyplot as plt\n",
    "plt.scatter(low_dimensional_points, np.zeros(len(low_dimensional_points)))\n",
    "for idx in range(len(point_names)):\n",
    "    plt.annotate(point_names[idx], (low_dimensional_points[idx], 0))"
   ]
  }
 ],
 "metadata": {
  "kernelspec": {
   "display_name": "Python 3",
   "language": "python",
   "name": "python3"
  },
  "language_info": {
   "codemirror_mode": {
    "name": "ipython",
    "version": 3
   },
   "file_extension": ".py",
   "mimetype": "text/x-python",
   "name": "python",
   "nbconvert_exporter": "python",
   "pygments_lexer": "ipython3",
   "version": "3.6.3"
  }
 },
 "nbformat": 4,
 "nbformat_minor": 2
}