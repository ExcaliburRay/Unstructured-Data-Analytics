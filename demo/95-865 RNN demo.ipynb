{
 "cells": [
  {
   "cell_type": "markdown",
   "metadata": {},
   "source": [
    "# Recurrent Neural Networks Demo\n",
    "This is a truncated and slightly modified version of an RNN demo by 95-865 Fall 2017 TA Runshan Fu"
   ]
  },
  {
   "cell_type": "code",
   "execution_count": 1,
   "metadata": {},
   "outputs": [],
   "source": [
    "%matplotlib inline\n",
    "import matplotlib.pyplot as plt\n",
    "import numpy as np"
   ]
  },
  {
   "cell_type": "markdown",
   "metadata": {},
   "source": [
    "### Sentiment Analysis with the IMDb Dataset\n",
    "In this demo, we will implement RNN models for sentiment analysis on IMDB reviews. We will start from the original review texts and predict sentiments (positive or negative) for each review. The example is borrowed from the book *Deep Learning with Python* by Francois Chollet.\n",
    "\n",
    "#### Load the dataset\n",
    "We directly load the data as lists of intergers from keras. We restrict the movie reviews to the top 10,000 most common words, and cut the reviews after 100 words."
   ]
  },
  {
   "cell_type": "code",
   "execution_count": 2,
   "metadata": {},
   "outputs": [
    {
     "name": "stderr",
     "output_type": "stream",
     "text": [
      "/Users/georgehc/anaconda3/envs/py35/lib/python3.5/site-packages/h5py/__init__.py:36: FutureWarning: Conversion of the second argument of issubdtype from `float` to `np.floating` is deprecated. In future, it will be treated as `np.float64 == np.dtype(float).type`.\n",
      "  from ._conv import register_converters as _register_converters\n",
      "Using TensorFlow backend.\n"
     ]
    }
   ],
   "source": [
    "from keras.datasets import imdb\n",
    "from keras.preprocessing import sequence\n",
    "\n",
    "# load the dataset and only keep the top words (most frequently occurring)\n",
    "max_words = 2000\n",
    "(x_train, y_train), (x_test, y_test) = imdb.load_data(num_words=max_words)\n",
    "\n",
    "# turn the lists of integers into a 2D integer tensor of shape `(samples, maxlen)`\n",
    "x_train = sequence.pad_sequences(x_train, maxlen=100)\n",
    "x_test = sequence.pad_sequences(x_test, maxlen=100)"
   ]
  },
  {
   "cell_type": "markdown",
   "metadata": {},
   "source": [
    "#### Use pre-trained word embeddings\n",
    "We use GloVe embeddings instead of learning our own task-specific word embedding. First download the pre-computed embeddings from 2014 English Wikipedia on https://nlp.stanford.edu/projects/glove/ (specifically the one with 6 billion tokens, `globe.6B.zip`). Unzip it (so that `glove.6B.100d.txt` is located in the directory `./glove/`)."
   ]
  },
  {
   "cell_type": "code",
   "execution_count": 3,
   "metadata": {},
   "outputs": [
    {
     "name": "stdout",
     "output_type": "stream",
     "text": [
      "Found 400000 word vectors.\n"
     ]
    }
   ],
   "source": [
    "# pre-process the embeddings\n",
    "embeddings_index = {}\n",
    "\n",
    "# we will use the 100-dimensional embedding vectors\n",
    "with open(\"./glove/glove.6B.100d.txt\") as f:\n",
    "    # each row represents a word vector\n",
    "    for line in f:\n",
    "        values = line.split()\n",
    "        # the first part is word\n",
    "        word = values[0]\n",
    "        # the rest of the values form the embedding vector\n",
    "        coefs = np.asarray(values[1:], dtype='float32')\n",
    "        embeddings_index[word] = coefs\n",
    "\n",
    "print('Found %s word vectors.' % len(embeddings_index))"
   ]
  },
  {
   "cell_type": "code",
   "execution_count": 4,
   "metadata": {},
   "outputs": [],
   "source": [
    "# prepare the GloVe word embeddings matrix\n",
    "embedding_dim = 100\n",
    "\n",
    "# word index is a dictinary that maps each word to its index\n",
    "word_index = imdb.get_word_index()\n",
    "# we first initialize the embedding matrix with zeros\n",
    "embedding_matrix = np.zeros((max_words, embedding_dim))\n",
    "for word, i in word_index.items():\n",
    "    # we get the word embeddings for each word from GloVe\n",
    "    embedding_vector = embeddings_index.get(word)\n",
    "    # we only look at top 10000 words\n",
    "    if i < max_words:\n",
    "        # if the embedding vector for the word exists in GloVe, we use it as the corresponding row in the \n",
    "        # embedding matrix; otherwise we leave the row as all zeros\n",
    "        if embedding_vector is not None:\n",
    "            embedding_matrix[i] = embedding_vector\n",
    "\n",
    "del embeddings_index"
   ]
  },
  {
   "cell_type": "markdown",
   "metadata": {},
   "source": [
    "#### Forward Network with Embeddings"
   ]
  },
  {
   "cell_type": "code",
   "execution_count": 5,
   "metadata": {},
   "outputs": [
    {
     "name": "stdout",
     "output_type": "stream",
     "text": [
      "_________________________________________________________________\n",
      "Layer (type)                 Output Shape              Param #   \n",
      "=================================================================\n",
      "embedding_1 (Embedding)      (None, 100, 100)          200000    \n",
      "_________________________________________________________________\n",
      "flatten_1 (Flatten)          (None, 10000)             0         \n",
      "_________________________________________________________________\n",
      "dense_1 (Dense)              (None, 32)                320032    \n",
      "_________________________________________________________________\n",
      "dense_2 (Dense)              (None, 1)                 33        \n",
      "=================================================================\n",
      "Total params: 520,065\n",
      "Trainable params: 520,065\n",
      "Non-trainable params: 0\n",
      "_________________________________________________________________\n"
     ]
    }
   ],
   "source": [
    "from keras.models import Sequential\n",
    "from keras.layers import Embedding, Flatten, Dense\n",
    "# initialize the model\n",
    "feedforward_model = Sequential()\n",
    "# add the embedding layer; it takes 3 arguments: the total number of words (10000), \n",
    "# embedding dimension(100), and the input length (100)--the last argument is required \n",
    "# as we are going to connect Flatten then Dense layers (without it, the shape of\n",
    "# the dense outputs cannot be computed).\n",
    "feedforward_model.add(Embedding(max_words, embedding_dim, input_length=100))\n",
    "# then flatten the 3D tensor into a 2D matrix as the input for the subsequent layer\n",
    "feedforward_model.add(Flatten())\n",
    "# add a dense layer with 32 nodes\n",
    "feedforward_model.add(Dense(32, activation='relu'))\n",
    "# add a logistic regression binary classifier\n",
    "feedforward_model.add(Dense(1, activation='sigmoid'))\n",
    "feedforward_model.summary()"
   ]
  },
  {
   "cell_type": "code",
   "execution_count": 6,
   "metadata": {},
   "outputs": [],
   "source": [
    "# load the GloVe embeddings in the model\n",
    "feedforward_model.layers[0].set_weights([embedding_matrix])\n",
    "# set the embedding layer to be not trainable, so the weights do not change during the training\n",
    "feedforward_model.layers[0].trainable = False"
   ]
  },
  {
   "cell_type": "code",
   "execution_count": 7,
   "metadata": {},
   "outputs": [
    {
     "name": "stdout",
     "output_type": "stream",
     "text": [
      "Train on 20000 samples, validate on 5000 samples\n",
      "Epoch 1/10\n",
      "20000/20000 [==============================] - 41s 2ms/step - loss: 0.7072 - acc: 0.5016 - val_loss: 0.6930 - val_acc: 0.4938\n",
      "Epoch 2/10\n",
      "20000/20000 [==============================] - 44s 2ms/step - loss: 0.6930 - acc: 0.4987 - val_loss: 0.6929 - val_acc: 0.5088\n",
      "Epoch 3/10\n",
      "20000/20000 [==============================] - 32s 2ms/step - loss: 0.6911 - acc: 0.5081 - val_loss: 0.6919 - val_acc: 0.5204\n",
      "Epoch 4/10\n",
      "20000/20000 [==============================] - 39s 2ms/step - loss: 0.6849 - acc: 0.5340 - val_loss: 0.6894 - val_acc: 0.5480\n",
      "Epoch 5/10\n",
      "20000/20000 [==============================] - 35s 2ms/step - loss: 0.6681 - acc: 0.5816 - val_loss: 0.6985 - val_acc: 0.5294\n",
      "Epoch 6/10\n",
      "20000/20000 [==============================] - 32s 2ms/step - loss: 0.6432 - acc: 0.6279 - val_loss: 0.7116 - val_acc: 0.5654\n",
      "Epoch 7/10\n",
      "20000/20000 [==============================] - 32s 2ms/step - loss: 0.6133 - acc: 0.6596 - val_loss: 0.7251 - val_acc: 0.5650\n",
      "Epoch 8/10\n",
      "20000/20000 [==============================] - 30s 2ms/step - loss: 0.5879 - acc: 0.6809 - val_loss: 0.7125 - val_acc: 0.5636\n",
      "Epoch 9/10\n",
      "20000/20000 [==============================] - 31s 2ms/step - loss: 0.5624 - acc: 0.7067 - val_loss: 0.7366 - val_acc: 0.5700\n",
      "Epoch 10/10\n",
      "20000/20000 [==============================] - 35s 2ms/step - loss: 0.5376 - acc: 0.7268 - val_loss: 0.7718 - val_acc: 0.5774\n"
     ]
    }
   ],
   "source": [
    "# compile and train the model\n",
    "feedforward_model.compile(optimizer='rmsprop',\n",
    "              loss='binary_crossentropy',\n",
    "              metrics=['acc'])\n",
    "\n",
    "history = feedforward_model.fit(x_train, y_train,\n",
    "                                validation_split=0.2,\n",
    "                                epochs=10,\n",
    "                                batch_size=32)"
   ]
  },
  {
   "cell_type": "code",
   "execution_count": 8,
   "metadata": {},
   "outputs": [
    {
     "data": {
      "text/plain": [
       "<matplotlib.legend.Legend at 0x1825a8bdd8>"
      ]
     },
     "execution_count": 8,
     "metadata": {},
     "output_type": "execute_result"
    },
    {
     "data": {
      "image/png": "[encoded data removed]",
      "text/plain": [
       "<matplotlib.figure.Figure at 0x182780a390>"
      ]
     },
     "metadata": {},
     "output_type": "display_data"
    }
   ],
   "source": [
    "# plot the accuracy rates for each epoch on training and validation data\n",
    "acc = history.history['acc']\n",
    "val_acc = history.history['val_acc']\n",
    "epochs = range(1, len(acc) + 1)\n",
    "plt.plot(epochs, acc, 'bo', label='Training acc')\n",
    "plt.plot(epochs, val_acc, 'b', label='Validation acc')\n",
    "plt.title('Training and validation accuracy')\n",
    "plt.legend()"
   ]
  },
  {
   "cell_type": "markdown",
   "metadata": {},
   "source": [
    "#### LSTM"
   ]
  },
  {
   "cell_type": "code",
   "execution_count": 9,
   "metadata": {},
   "outputs": [
    {
     "name": "stdout",
     "output_type": "stream",
     "text": [
      "_________________________________________________________________\n",
      "Layer (type)                 Output Shape              Param #   \n",
      "=================================================================\n",
      "embedding_2 (Embedding)      (None, None, 100)         200000    \n",
      "_________________________________________________________________\n",
      "lstm_1 (LSTM)                (None, 100)               80400     \n",
      "_________________________________________________________________\n",
      "dense_3 (Dense)              (None, 1)                 101       \n",
      "=================================================================\n",
      "Total params: 280,501\n",
      "Trainable params: 80,501\n",
      "Non-trainable params: 200,000\n",
      "_________________________________________________________________\n"
     ]
    }
   ],
   "source": [
    "from keras.models import Sequential\n",
    "from keras.layers import Embedding, LSTM, Dense\n",
    "rnn_model = Sequential()\n",
    "rnn_model.add(Embedding(max_words, embedding_dim))\n",
    "rnn_model.add(LSTM(embedding_dim))\n",
    "rnn_model.add(Dense(1, activation='sigmoid'))\n",
    "# load the GloVe embeddings in the model\n",
    "rnn_model.layers[0].set_weights([embedding_matrix])\n",
    "rnn_model.layers[0].trainable = False\n",
    "\n",
    "rnn_model.summary()"
   ]
  },
  {
   "cell_type": "code",
   "execution_count": 10,
   "metadata": {},
   "outputs": [
    {
     "name": "stdout",
     "output_type": "stream",
     "text": [
      "Train on 20000 samples, validate on 5000 samples\n",
      "Epoch 1/10\n",
      "20000/20000 [==============================] - 597s 30ms/step - loss: 0.6740 - acc: 0.5704 - val_loss: 0.6289 - val_acc: 0.6380\n",
      "Epoch 2/10\n",
      "20000/20000 [==============================] - 618s 31ms/step - loss: 0.6086 - acc: 0.6588 - val_loss: 0.5811 - val_acc: 0.6834\n",
      "Epoch 3/10\n",
      "20000/20000 [==============================] - 565s 28ms/step - loss: 0.5502 - acc: 0.7106 - val_loss: 0.5728 - val_acc: 0.6900\n",
      "Epoch 4/10\n",
      "20000/20000 [==============================] - 577s 29ms/step - loss: 0.4999 - acc: 0.7519 - val_loss: 0.5221 - val_acc: 0.7232\n",
      "Epoch 5/10\n",
      "20000/20000 [==============================] - 570s 29ms/step - loss: 0.4558 - acc: 0.7812 - val_loss: 0.4965 - val_acc: 0.7528\n",
      "Epoch 6/10\n",
      "20000/20000 [==============================] - 1378s 69ms/step - loss: 0.4186 - acc: 0.8029 - val_loss: 0.4819 - val_acc: 0.7564\n",
      "Epoch 7/10\n",
      "20000/20000 [==============================] - 638s 32ms/step - loss: 0.3847 - acc: 0.8220 - val_loss: 0.5465 - val_acc: 0.7488\n",
      "Epoch 8/10\n",
      "20000/20000 [==============================] - 621s 31ms/step - loss: 0.3523 - acc: 0.8414 - val_loss: 0.4921 - val_acc: 0.7650\n",
      "Epoch 9/10\n",
      "20000/20000 [==============================] - 650s 32ms/step - loss: 0.3210 - acc: 0.8565 - val_loss: 0.4838 - val_acc: 0.7748\n",
      "Epoch 10/10\n",
      "20000/20000 [==============================] - 651s 33ms/step - loss: 0.2861 - acc: 0.8771 - val_loss: 0.5578 - val_acc: 0.7700\n"
     ]
    }
   ],
   "source": [
    "# compile and train the model\n",
    "rnn_model.compile(optimizer='rmsprop',\n",
    "              loss='binary_crossentropy',\n",
    "              metrics=['acc'])\n",
    "history = rnn_model.fit(x_train, y_train,\n",
    "                        validation_split=0.2,\n",
    "                        epochs=10,\n",
    "                        batch_size=32)"
   ]
  },
  {
   "cell_type": "code",
   "execution_count": 11,
   "metadata": {},
   "outputs": [
    {
     "data": {
      "image/png": "[encoded data removed]",
      "text/plain": [
       "<matplotlib.figure.Figure at 0x18251eec88>"
      ]
     },
     "metadata": {},
     "output_type": "display_data"
    }
   ],
   "source": [
    "# plot the accuracy rates for each epoch on training and validation data\n",
    "acc = history.history['acc']\n",
    "val_acc = history.history['val_acc']\n",
    "epochs = range(1, len(acc) + 1)\n",
    "plt.plot(epochs, acc, 'bo', label='Training acc')\n",
    "plt.plot(epochs, val_acc, 'b', label='Validation acc')\n",
    "plt.title('Training and validation accuracy')\n",
    "plt.legend()\n",
    "plt.show()"
   ]
  },
  {
   "cell_type": "markdown",
   "metadata": {},
   "source": [
    "## Finally evaluate on test data"
   ]
  },
  {
   "cell_type": "code",
   "execution_count": 12,
   "metadata": {},
   "outputs": [
    {
     "name": "stdout",
     "output_type": "stream",
     "text": [
      "25000/25000 [==============================] - 19s 778us/step\n",
      "Test accuracy: 0.5744\n"
     ]
    }
   ],
   "source": [
    "test_loss, test_acc = feedforward_model.evaluate(x_test, y_test)\n",
    "print('Test accuracy:', test_acc)"
   ]
  },
  {
   "cell_type": "code",
   "execution_count": 13,
   "metadata": {},
   "outputs": [
    {
     "name": "stdout",
     "output_type": "stream",
     "text": [
      "25000/25000 [==============================] - 276s 11ms/step\n",
      "Test accuracy: 0.77576\n"
     ]
    }
   ],
   "source": [
    "test_loss, test_acc = rnn_model.evaluate(x_test, y_test)\n",
    "print('Test accuracy:', test_acc)"
   ]
  }
 ],
 "metadata": {
  "anaconda-cloud": {},
  "kernelspec": {
   "display_name": "Python 3",
   "language": "python",
   "name": "python3"
  },
  "language_info": {
   "codemirror_mode": {
    "name": "ipython",
    "version": 3
   },
   "file_extension": ".py",
   "mimetype": "text/x-python",
   "name": "python",
   "nbconvert_exporter": "python",
   "pygments_lexer": "ipython3",
   "version": "3.5.4"
  }
 },
 "nbformat": 4,
 "nbformat_minor": 1
}
